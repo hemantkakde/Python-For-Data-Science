{
 "cells": [
  {
   "cell_type": "code",
   "execution_count": 1,
   "id": "b4faf485-71a2-4e7e-8806-c222f2339b27",
   "metadata": {},
   "outputs": [
    {
     "data": {
      "text/plain": [
       "(3+2j)"
      ]
     },
     "execution_count": 1,
     "metadata": {},
     "output_type": "execute_result"
    }
   ],
   "source": [
    "c=3+2j\n",
    "c"
   ]
  },
  {
   "cell_type": "code",
   "execution_count": 2,
   "id": "d1080ac7-5ab5-47db-a243-028e9681f9fa",
   "metadata": {},
   "outputs": [
    {
     "data": {
      "text/plain": [
       "3"
      ]
     },
     "execution_count": 2,
     "metadata": {},
     "output_type": "execute_result"
    }
   ],
   "source": [
    "a=3\n",
    "a"
   ]
  },
  {
   "cell_type": "code",
   "execution_count": 3,
   "id": "496f3381-828b-47e4-baaa-2977e3ee674e",
   "metadata": {},
   "outputs": [],
   "source": [
    "b=complex(a)"
   ]
  },
  {
   "cell_type": "code",
   "execution_count": 4,
   "id": "8e7efec4-ee70-4dd3-8fe6-81e887b270ce",
   "metadata": {},
   "outputs": [
    {
     "data": {
      "text/plain": [
       "(3+0j)"
      ]
     },
     "execution_count": 4,
     "metadata": {},
     "output_type": "execute_result"
    }
   ],
   "source": [
    "b"
   ]
  },
  {
   "cell_type": "code",
   "execution_count": 6,
   "id": "8eaee9da-79d6-4eba-bc8a-2a1b53ac08be",
   "metadata": {},
   "outputs": [
    {
     "ename": "TypeError",
     "evalue": "int() argument must be a string, a bytes-like object or a real number, not 'complex'",
     "output_type": "error",
     "traceback": [
      "\u001b[1;31m---------------------------------------------------------------------------\u001b[0m",
      "\u001b[1;31mTypeError\u001b[0m                                 Traceback (most recent call last)",
      "Cell \u001b[1;32mIn[6], line 1\u001b[0m\n\u001b[1;32m----> 1\u001b[0m d\u001b[38;5;241m=\u001b[39m\u001b[38;5;28;43mint\u001b[39;49m\u001b[43m(\u001b[49m\u001b[43mc\u001b[49m\u001b[43m)\u001b[49m \u001b[38;5;66;03m#this is not possible we cannot convert a complex data type to any other data types\u001b[39;00m\n",
      "\u001b[1;31mTypeError\u001b[0m: int() argument must be a string, a bytes-like object or a real number, not 'complex'"
     ]
    }
   ],
   "source": [
    "d=int(c) #this is not possible we cannot convert a complex data type to any other data types"
   ]
  },
  {
   "cell_type": "code",
   "execution_count": 8,
   "id": "67b72fdc-fe8c-439e-8fb9-7c52fd9246dd",
   "metadata": {},
   "outputs": [
    {
     "name": "stdout",
     "output_type": "stream",
     "text": [
      "8\n"
     ]
    }
   ],
   "source": [
    "import random\n",
    "print(random.randrange(1,10))"
   ]
  },
  {
   "cell_type": "code",
   "execution_count": 10,
   "id": "461e2c56-9ee0-429d-871d-6e903629991c",
   "metadata": {},
   "outputs": [
    {
     "name": "stdout",
     "output_type": "stream",
     "text": [
      "4\n",
      "1\n",
      "5\n",
      "9\n",
      "5\n",
      "1\n",
      "4\n",
      "1\n",
      "9\n"
     ]
    }
   ],
   "source": [
    "import random\n",
    "for i in range(1,10):\n",
    "    print(random.randrange(1,10))"
   ]
  },
  {
   "cell_type": "code",
   "execution_count": 11,
   "id": "0d731f97-72de-4d2f-bea8-c14f218a7030",
   "metadata": {},
   "outputs": [
    {
     "name": "stdout",
     "output_type": "stream",
     "text": [
      "e\n"
     ]
    }
   ],
   "source": [
    "a=\"hello world\"\n",
    "print(a[1])\n"
   ]
  },
  {
   "cell_type": "code",
   "execution_count": 12,
   "id": "41186567-f438-4c5e-9527-1c03f9a53cba",
   "metadata": {},
   "outputs": [
    {
     "name": "stdout",
     "output_type": "stream",
     "text": [
      "el\n"
     ]
    }
   ],
   "source": [
    "print(a[1:3:1])"
   ]
  },
  {
   "cell_type": "code",
   "execution_count": 13,
   "id": "92f9292f-9999-45a9-91c7-532c1754a267",
   "metadata": {},
   "outputs": [
    {
     "name": "stdout",
     "output_type": "stream",
     "text": [
      "d\n"
     ]
    }
   ],
   "source": [
    "print(a[-1])"
   ]
  },
  {
   "cell_type": "code",
   "execution_count": 15,
   "id": "7a66e71d-6257-4fe2-aa22-78b5a4a9c3bf",
   "metadata": {},
   "outputs": [
    {
     "name": "stdout",
     "output_type": "stream",
     "text": [
      "\n"
     ]
    }
   ],
   "source": [
    "print(a[-1:1])"
   ]
  },
  {
   "cell_type": "code",
   "execution_count": 16,
   "id": "ff238e31-5c5d-4141-ab70-9448cd41fcf5",
   "metadata": {},
   "outputs": [
    {
     "name": "stdout",
     "output_type": "stream",
     "text": [
      "d\n",
      "d\n",
      "d\n",
      "d\n",
      "d\n",
      "d\n",
      "d\n",
      "d\n",
      "d\n",
      "d\n",
      "d\n"
     ]
    }
   ],
   "source": [
    "for i in a:\n",
    "    print(a[-1])"
   ]
  },
  {
   "cell_type": "code",
   "execution_count": 18,
   "id": "640a514c-9e9b-43b4-b42e-272eb86ced1a",
   "metadata": {},
   "outputs": [
    {
     "name": "stdin",
     "output_type": "stream",
     "text": [
      "enter a number 12\n"
     ]
    }
   ],
   "source": [
    "m=int(input(\"enter a number\"))"
   ]
  },
  {
   "cell_type": "code",
   "execution_count": 20,
   "id": "88747ef1-66a2-4755-9dce-03a18bf9ae7c",
   "metadata": {},
   "outputs": [
    {
     "name": "stdout",
     "output_type": "stream",
     "text": [
      "b\n",
      "a\n",
      "n\n",
      "a\n",
      "n\n",
      "a\n"
     ]
    }
   ],
   "source": [
    "for x in \"banana\":\n",
    "    print(x)"
   ]
  },
  {
   "cell_type": "code",
   "execution_count": 21,
   "id": "67ac6af2-4979-4f84-9d34-f66af9bdae63",
   "metadata": {},
   "outputs": [
    {
     "name": "stdout",
     "output_type": "stream",
     "text": [
      "b\n",
      "a\n",
      "n\n",
      "a\n",
      "n\n",
      "a\n",
      "n\n",
      "a\n",
      "n\n",
      "a\n",
      "n\n",
      "a\n"
     ]
    }
   ],
   "source": [
    "for x in \"bananananana\":\n",
    "    print(x[-1:1])"
   ]
  },
  {
   "cell_type": "code",
   "execution_count": 22,
   "id": "0dfe58dc-8332-4154-b74c-c8595483ed92",
   "metadata": {},
   "outputs": [
    {
     "name": "stdout",
     "output_type": "stream",
     "text": [
      "23\n"
     ]
    }
   ],
   "source": [
    "l=\"hello my name is hemant\"\n",
    "print(len(l))"
   ]
  },
  {
   "cell_type": "code",
   "execution_count": 23,
   "id": "5adab4c2-0a73-49ea-b757-c5fe4643d748",
   "metadata": {},
   "outputs": [
    {
     "name": "stdout",
     "output_type": "stream",
     "text": [
      "True\n"
     ]
    }
   ],
   "source": [
    "print(\"is\" in l)"
   ]
  },
  {
   "cell_type": "code",
   "execution_count": 24,
   "id": "531f074e-3914-4789-bbbe-359f2fe16496",
   "metadata": {},
   "outputs": [
    {
     "name": "stdout",
     "output_type": "stream",
     "text": [
      "False\n"
     ]
    }
   ],
   "source": [
    "print(\"ok\" in l)"
   ]
  },
  {
   "cell_type": "code",
   "execution_count": 26,
   "id": "f01f7420-3017-468b-adb8-51e2f2d4be5d",
   "metadata": {},
   "outputs": [
    {
     "name": "stdout",
     "output_type": "stream",
     "text": [
      "it is present in tcxt\n"
     ]
    }
   ],
   "source": [
    "txt=\"i am going to move to germany in upcoming years\"\n",
    "if \"i\" in txt:\n",
    "    print(\"it is present in tcxt\")\n",
    "else:\n",
    "    print(\"not present\")"
   ]
  },
  {
   "cell_type": "code",
   "execution_count": 27,
   "id": "388f5ceb-2095-431e-aa96-1549e179a750",
   "metadata": {},
   "outputs": [
    {
     "name": "stdout",
     "output_type": "stream",
     "text": [
      "not present\n"
     ]
    }
   ],
   "source": [
    "if \"you\" not in txt:\n",
    "    print(\"not present\")"
   ]
  },
  {
   "cell_type": "code",
   "execution_count": 28,
   "id": "b79e80eb-d547-42c5-9fa6-d0a24ab82552",
   "metadata": {},
   "outputs": [
    {
     "name": "stdout",
     "output_type": "stream",
     "text": [
      " am \n"
     ]
    }
   ],
   "source": [
    "print(txt[1:5])"
   ]
  },
  {
   "cell_type": "code",
   "execution_count": 29,
   "id": "7c156ace-3240-45d3-8682-ed0fdb2c633e",
   "metadata": {},
   "outputs": [
    {
     "name": "stdout",
     "output_type": "stream",
     "text": [
      "am \n"
     ]
    }
   ],
   "source": [
    "print(txt[2:5])"
   ]
  },
  {
   "cell_type": "code",
   "execution_count": 31,
   "id": "39d2afe0-e699-45f2-8303-d5ee0ef8e53c",
   "metadata": {},
   "outputs": [
    {
     "name": "stdout",
     "output_type": "stream",
     "text": [
      "goin\n"
     ]
    }
   ],
   "source": [
    "print(txt[5:9])"
   ]
  },
  {
   "cell_type": "code",
   "execution_count": 32,
   "id": "a6eef723-87fe-4421-a146-9e7b603299fe",
   "metadata": {},
   "outputs": [
    {
     "name": "stdout",
     "output_type": "stream",
     "text": [
      "i\n"
     ]
    }
   ],
   "source": [
    "print(txt[0])"
   ]
  },
  {
   "cell_type": "code",
   "execution_count": 33,
   "id": "3af99288-b5b9-484b-9307-0785690f9e8e",
   "metadata": {},
   "outputs": [
    {
     "name": "stdout",
     "output_type": "stream",
     "text": [
      "i am \n"
     ]
    }
   ],
   "source": [
    "print(txt[:5])"
   ]
  },
  {
   "cell_type": "code",
   "execution_count": 34,
   "id": "7f72da26-1acd-48bf-92e3-b291ef69744d",
   "metadata": {},
   "outputs": [
    {
     "name": "stdout",
     "output_type": "stream",
     "text": [
      "am going to move to germany in upcoming years\n"
     ]
    }
   ],
   "source": [
    "print(txt[2:])"
   ]
  },
  {
   "cell_type": "code",
   "execution_count": 35,
   "id": "e1cc5bba-aa3a-4451-9d26-a274a228a540",
   "metadata": {},
   "outputs": [
    {
     "name": "stdout",
     "output_type": "stream",
     "text": [
      "wor\n"
     ]
    }
   ],
   "source": [
    "n=\"hello world\"\n",
    "print(n[-5:-2])"
   ]
  },
  {
   "cell_type": "code",
   "execution_count": 36,
   "id": "8d2d6eb1-91cf-4689-8ebf-25c9ee2cd9ef",
   "metadata": {},
   "outputs": [
    {
     "data": {
      "text/plain": [
       "11"
      ]
     },
     "execution_count": 36,
     "metadata": {},
     "output_type": "execute_result"
    }
   ],
   "source": [
    "len(n)"
   ]
  },
  {
   "cell_type": "code",
   "execution_count": 37,
   "id": "764ba286-5f7c-45f9-8569-d3e8ae243ef6",
   "metadata": {},
   "outputs": [
    {
     "name": "stdout",
     "output_type": "stream",
     "text": [
      "d\n"
     ]
    }
   ],
   "source": [
    "print(n[-1:11])"
   ]
  },
  {
   "cell_type": "code",
   "execution_count": 38,
   "id": "d3705b88-1516-4c4e-b50d-d0945a1f1f92",
   "metadata": {},
   "outputs": [
    {
     "name": "stdout",
     "output_type": "stream",
     "text": [
      "\n"
     ]
    }
   ],
   "source": [
    "print(n[11:-1])"
   ]
  },
  {
   "cell_type": "code",
   "execution_count": 39,
   "id": "14107c5b-8fd7-4aab-86da-ee75d665760c",
   "metadata": {},
   "outputs": [
    {
     "name": "stdout",
     "output_type": "stream",
     "text": [
      "\n"
     ]
    }
   ],
   "source": [
    "print(n[-1:-6])"
   ]
  },
  {
   "cell_type": "code",
   "execution_count": 40,
   "id": "16143221-19c2-4ecc-9fe5-7d087dba9d2a",
   "metadata": {},
   "outputs": [
    {
     "name": "stdout",
     "output_type": "stream",
     "text": [
      " worl\n"
     ]
    }
   ],
   "source": [
    "print(n[-6:-1])"
   ]
  },
  {
   "cell_type": "code",
   "execution_count": 41,
   "id": "c218013f-72ab-4aec-8b9f-00039369d536",
   "metadata": {},
   "outputs": [
    {
     "name": "stdout",
     "output_type": "stream",
     "text": [
      "HELLO WORLD\n"
     ]
    }
   ],
   "source": [
    "print(n.upper())"
   ]
  },
  {
   "cell_type": "code",
   "execution_count": 42,
   "id": "d6fd8253-ed27-48da-a269-54d83428b747",
   "metadata": {},
   "outputs": [
    {
     "data": {
      "text/plain": [
       "'hello world'"
      ]
     },
     "execution_count": 42,
     "metadata": {},
     "output_type": "execute_result"
    }
   ],
   "source": [
    "n.lower()"
   ]
  },
  {
   "cell_type": "code",
   "execution_count": 43,
   "id": "c8d8abc4-b16e-4abd-9d40-04b64d6074e1",
   "metadata": {},
   "outputs": [
    {
     "data": {
      "text/plain": [
       "'hello world'"
      ]
     },
     "execution_count": 43,
     "metadata": {},
     "output_type": "execute_result"
    }
   ],
   "source": [
    "n.strip()"
   ]
  },
  {
   "cell_type": "code",
   "execution_count": 44,
   "id": "a6b6b6c0-ba74-4371-b1df-34c4e85d38a5",
   "metadata": {},
   "outputs": [],
   "source": [
    "n= \"   hello u can win   \""
   ]
  },
  {
   "cell_type": "code",
   "execution_count": 45,
   "id": "ec9e2a70-a885-4349-9ce8-8ffe4cf335ac",
   "metadata": {},
   "outputs": [
    {
     "data": {
      "text/plain": [
       "'hello u can win'"
      ]
     },
     "execution_count": 45,
     "metadata": {},
     "output_type": "execute_result"
    }
   ],
   "source": [
    "n.strip()"
   ]
  },
  {
   "cell_type": "code",
   "execution_count": 46,
   "id": "6215b581-421f-4735-a851-b7da9bfbd1f6",
   "metadata": {},
   "outputs": [
    {
     "data": {
      "text/plain": [
       "'   hello i can win   '"
      ]
     },
     "execution_count": 46,
     "metadata": {},
     "output_type": "execute_result"
    }
   ],
   "source": [
    "n.replace(\"u\",\"i\")"
   ]
  },
  {
   "cell_type": "code",
   "execution_count": 47,
   "id": "39353ae3-3966-4446-b93e-54c86cbb91f4",
   "metadata": {},
   "outputs": [],
   "source": [
    "n=\"Hello you are, a hero\""
   ]
  },
  {
   "cell_type": "code",
   "execution_count": 49,
   "id": "a8722374-ff3b-476b-8e16-5c0199abd146",
   "metadata": {},
   "outputs": [
    {
     "data": {
      "text/plain": [
       "['Hello you are', ' a hero']"
      ]
     },
     "execution_count": 49,
     "metadata": {},
     "output_type": "execute_result"
    }
   ],
   "source": [
    "n.split(\",\")"
   ]
  },
  {
   "cell_type": "code",
   "execution_count": 50,
   "id": "650e5e30-039d-407c-9568-21b7b143b71f",
   "metadata": {},
   "outputs": [],
   "source": [
    "###String Concatination"
   ]
  },
  {
   "cell_type": "code",
   "execution_count": 51,
   "id": "ea9fcb7e-6098-4aab-9a2d-259c7ca40ec9",
   "metadata": {},
   "outputs": [
    {
     "data": {
      "text/plain": [
       "'helloword'"
      ]
     },
     "execution_count": 51,
     "metadata": {},
     "output_type": "execute_result"
    }
   ],
   "source": [
    "a=\"hello\"\n",
    "b=\"word\"\n",
    "c=a+b\n",
    "c"
   ]
  },
  {
   "cell_type": "code",
   "execution_count": 52,
   "id": "3caa1289-0ff6-4d91-b7af-6aced28ae34c",
   "metadata": {},
   "outputs": [
    {
     "data": {
      "text/plain": [
       "'hello word'"
      ]
     },
     "execution_count": 52,
     "metadata": {},
     "output_type": "execute_result"
    }
   ],
   "source": [
    "c=a+ \" \" +b\n",
    "c"
   ]
  },
  {
   "cell_type": "code",
   "execution_count": 54,
   "id": "a43e4ee5-f021-4e22-9528-593c427a8de3",
   "metadata": {},
   "outputs": [
    {
     "name": "stdout",
     "output_type": "stream",
     "text": [
      "hey! my age is 22\n"
     ]
    }
   ],
   "source": [
    "age=22\n",
    "txt=\"hey! my age is {}\"\n",
    "print(txt.format(age))"
   ]
  },
  {
   "cell_type": "code",
   "execution_count": 59,
   "id": "d4bad96c-ed34-4cb5-8cb6-6a2d1c4cb529",
   "metadata": {},
   "outputs": [
    {
     "data": {
      "text/plain": [
       "'we are so called \"Heros from the land of the hidden leaves\" dont mess with me '"
      ]
     },
     "execution_count": 59,
     "metadata": {},
     "output_type": "execute_result"
    }
   ],
   "source": [
    "v=\"we are so called \\\"Heros from the land of the hidden leaves\\\" dont mess with me \"\n",
    "v"
   ]
  },
  {
   "cell_type": "code",
   "execution_count": 60,
   "id": "992aa15b-19f5-4ecb-a402-de4a9fa15ff9",
   "metadata": {},
   "outputs": [
    {
     "data": {
      "text/plain": [
       "'we are so called \"heros from the land of the hidden leaves\" dont mess with me '"
      ]
     },
     "execution_count": 60,
     "metadata": {},
     "output_type": "execute_result"
    }
   ],
   "source": [
    "v.casefold()"
   ]
  },
  {
   "cell_type": "code",
   "execution_count": 62,
   "id": "0dab3a80-37b8-40ea-9bc2-13dccbc5bcb0",
   "metadata": {},
   "outputs": [
    {
     "data": {
      "text/plain": [
       "'We are so called \"heros from the land of the hidden leaves\" dont mess with me '"
      ]
     },
     "execution_count": 62,
     "metadata": {},
     "output_type": "execute_result"
    }
   ],
   "source": [
    "v.capitalize()"
   ]
  },
  {
   "cell_type": "code",
   "execution_count": 67,
   "id": "64f67880-db3f-4c98-925f-542e6042b99a",
   "metadata": {},
   "outputs": [
    {
     "data": {
      "text/plain": [
       "11"
      ]
     },
     "execution_count": 67,
     "metadata": {},
     "output_type": "execute_result"
    }
   ],
   "source": [
    "v.count(\"e\")"
   ]
  },
  {
   "cell_type": "code",
   "execution_count": 68,
   "id": "006be06b-c756-4362-bb25-ff031a354954",
   "metadata": {},
   "outputs": [
    {
     "data": {
      "text/plain": [
       "'we are so called \"Heros from the land of the hidden leaves\" dont mess with me'"
      ]
     },
     "execution_count": 68,
     "metadata": {},
     "output_type": "execute_result"
    }
   ],
   "source": [
    "v.rstrip()"
   ]
  },
  {
   "cell_type": "code",
   "execution_count": 70,
   "id": "4eabce40-f76e-4c81-a148-764ecf39faa1",
   "metadata": {},
   "outputs": [
    {
     "data": {
      "text/plain": [
       "'we are so called \"Heros from the land of the hidden leaves\" dont mess with me '"
      ]
     },
     "execution_count": 70,
     "metadata": {},
     "output_type": "execute_result"
    }
   ],
   "source": [
    "v.zfill(0)"
   ]
  },
  {
   "cell_type": "code",
   "execution_count": 71,
   "id": "1f6ad01b-6ae8-4f5f-9ec3-c12e42c9b8e4",
   "metadata": {},
   "outputs": [
    {
     "name": "stdout",
     "output_type": "stream",
     "text": [
      "True\n"
     ]
    }
   ],
   "source": [
    "print(10>9)"
   ]
  },
  {
   "cell_type": "code",
   "execution_count": 72,
   "id": "67034b16-b0f7-46bb-94a3-3bdd480e7923",
   "metadata": {},
   "outputs": [
    {
     "name": "stdout",
     "output_type": "stream",
     "text": [
      "True\n"
     ]
    }
   ],
   "source": [
    "print(bool(\"hello\"))"
   ]
  },
  {
   "cell_type": "code",
   "execution_count": 73,
   "id": "b01e4fe7-3951-41b8-85ed-54be25af0a96",
   "metadata": {},
   "outputs": [
    {
     "name": "stdout",
     "output_type": "stream",
     "text": [
      "True\n"
     ]
    }
   ],
   "source": [
    "print(bool(15))"
   ]
  },
  {
   "cell_type": "code",
   "execution_count": 74,
   "id": "d02108b1-2ea0-414b-82f5-87f95113bda8",
   "metadata": {},
   "outputs": [
    {
     "name": "stdout",
     "output_type": "stream",
     "text": [
      "True\n",
      "True\n"
     ]
    }
   ],
   "source": [
    "x=\"hello\"\n",
    "y=12\n",
    "print(bool(x))\n",
    "print(bool(y))"
   ]
  },
  {
   "cell_type": "code",
   "execution_count": 76,
   "id": "01780dc4-84e3-4aa1-8092-07d7200db8a6",
   "metadata": {},
   "outputs": [
    {
     "name": "stdout",
     "output_type": "stream",
     "text": [
      "True\n"
     ]
    }
   ],
   "source": [
    "x\n",
    "print(bool(x))"
   ]
  },
  {
   "cell_type": "code",
   "execution_count": 77,
   "id": "6835b261-0c1d-4791-b62f-8a4a45089c6d",
   "metadata": {},
   "outputs": [
    {
     "data": {
      "text/plain": [
       "False"
      ]
     },
     "execution_count": 77,
     "metadata": {},
     "output_type": "execute_result"
    }
   ],
   "source": [
    "x=\"\"\n",
    "bool(x)"
   ]
  },
  {
   "cell_type": "code",
   "execution_count": 78,
   "id": "868642b1-24e5-4d0b-83b7-f1e3edfc6e06",
   "metadata": {},
   "outputs": [
    {
     "data": {
      "text/plain": [
       "False"
      ]
     },
     "execution_count": 78,
     "metadata": {},
     "output_type": "execute_result"
    }
   ],
   "source": [
    "x=[]\n",
    "bool(x)"
   ]
  },
  {
   "cell_type": "code",
   "execution_count": 79,
   "id": "03bcd009-bfab-4c62-95b3-29c8dfdcf31b",
   "metadata": {},
   "outputs": [
    {
     "data": {
      "text/plain": [
       "False"
      ]
     },
     "execution_count": 79,
     "metadata": {},
     "output_type": "execute_result"
    }
   ],
   "source": [
    "y=0\n",
    "bool(y)\n"
   ]
  },
  {
   "cell_type": "code",
   "execution_count": 80,
   "id": "3e7039db-7231-45ab-9ef9-11b9bf60ff3f",
   "metadata": {},
   "outputs": [
    {
     "name": "stdout",
     "output_type": "stream",
     "text": [
      "28\n"
     ]
    }
   ],
   "source": [
    "str=\"my name is anthony gonsalvis\"\n",
    "print(len(str))"
   ]
  },
  {
   "cell_type": "code",
   "execution_count": 81,
   "id": "5bcec7e4-135d-4554-a1e3-4a4574c835ef",
   "metadata": {},
   "outputs": [
    {
     "name": "stdout",
     "output_type": "stream",
     "text": [
      "y name is a\n"
     ]
    }
   ],
   "source": [
    "print(str[1:12])"
   ]
  },
  {
   "cell_type": "code",
   "execution_count": 85,
   "id": "9d87ec93-cefc-4f06-bdbc-18514c85c7de",
   "metadata": {},
   "outputs": [
    {
     "name": "stdout",
     "output_type": "stream",
     "text": [
      "my name is anthony gonsalvi\n"
     ]
    }
   ],
   "source": [
    "print(str[:-1])"
   ]
  },
  {
   "cell_type": "code",
   "execution_count": 90,
   "id": "378313d1-89d2-4d38-9033-647d7298ac75",
   "metadata": {},
   "outputs": [
    {
     "name": "stdout",
     "output_type": "stream",
     "text": [
      "True\n"
     ]
    }
   ],
   "source": [
    "def my_function():\n",
    "    return True \n",
    "    \n",
    "print(my_function())"
   ]
  },
  {
   "cell_type": "code",
   "execution_count": 91,
   "id": "bfe9fac2-69dc-4f4f-a75c-a0d8303426ff",
   "metadata": {},
   "outputs": [
    {
     "name": "stdout",
     "output_type": "stream",
     "text": [
      "YES!\n"
     ]
    }
   ],
   "source": [
    "def myFunction():\n",
    "    return True\n",
    "\n",
    "if myFunction():\n",
    "    print(\"YES!\")\n",
    "else:\n",
    "    print(\"!NO\")"
   ]
  },
  {
   "cell_type": "code",
   "execution_count": 92,
   "id": "bcb7a0b7-bb0c-4d3a-a307-35d27d4b1f61",
   "metadata": {},
   "outputs": [
    {
     "name": "stdout",
     "output_type": "stream",
     "text": [
      "True\n"
     ]
    }
   ],
   "source": [
    "#isinstance()-----to find if the object is of a particular datatype \n",
    "\n",
    "x=200\n",
    "print(isinstance(x,int))"
   ]
  },
  {
   "cell_type": "code",
   "execution_count": 96,
   "id": "8e6d04cd-b7a1-4920-be71-c7540b6bb15b",
   "metadata": {},
   "outputs": [
    {
     "name": "stdout",
     "output_type": "stream",
     "text": [
      "True\n"
     ]
    }
   ],
   "source": [
    "print(isinstance(x,int))"
   ]
  },
  {
   "cell_type": "markdown",
   "id": "bef32e1a-8a00-40fe-a4d1-dd340765354d",
   "metadata": {},
   "source": [
    "10+2"
   ]
  },
  {
   "cell_type": "code",
   "execution_count": 97,
   "id": "e1bc74d0-9efe-47e5-b014-5e82ce2c6f01",
   "metadata": {},
   "outputs": [
    {
     "data": {
      "text/plain": [
       "12"
      ]
     },
     "execution_count": 97,
     "metadata": {},
     "output_type": "execute_result"
    }
   ],
   "source": [
    "10+2"
   ]
  },
  {
   "cell_type": "markdown",
   "id": "d0fe45e9-fada-4ca0-8c5e-44c2e3eb08ed",
   "metadata": {},
   "source": [
    "### Operators\n",
    "* Arithmetic Operator = {+,-,*,/,//,%,**}"
   ]
  },
  {
   "cell_type": "code",
   "execution_count": 101,
   "id": "47fb35df-e23d-461d-8023-81b4ada60179",
   "metadata": {},
   "outputs": [
    {
     "data": {
      "text/plain": [
       "20"
      ]
     },
     "execution_count": 101,
     "metadata": {},
     "output_type": "execute_result"
    }
   ],
   "source": [
    "#operations\n",
    "\n",
    "\n",
    "10/2 #division\n",
    "10%2 # modulo division\n",
    "10//2 # floor division \n",
    "10**2 # exponention\n",
    "10*2 #multiplication"
   ]
  },
  {
   "cell_type": "code",
   "execution_count": 103,
   "id": "0e6a97b5-77e4-45d6-8b46-da7f41e5ce87",
   "metadata": {},
   "outputs": [
    {
     "data": {
      "text/plain": [
       "12"
      ]
     },
     "execution_count": 103,
     "metadata": {},
     "output_type": "execute_result"
    }
   ],
   "source": [
    "10+2   #addition"
   ]
  },
  {
   "cell_type": "code",
   "execution_count": 105,
   "id": "5fdf8056-c541-4aa9-9df8-a50819e08824",
   "metadata": {},
   "outputs": [
    {
     "data": {
      "text/plain": [
       "5.0"
      ]
     },
     "execution_count": 105,
     "metadata": {},
     "output_type": "execute_result"
    }
   ],
   "source": [
    "10/2 #division"
   ]
  },
  {
   "cell_type": "code",
   "execution_count": 106,
   "id": "74e277e4-69f1-467b-a1ed-f84ecdc4a7eb",
   "metadata": {},
   "outputs": [
    {
     "data": {
      "text/plain": [
       "0"
      ]
     },
     "execution_count": 106,
     "metadata": {},
     "output_type": "execute_result"
    }
   ],
   "source": [
    "10%2 # modulo division"
   ]
  },
  {
   "cell_type": "code",
   "execution_count": 107,
   "id": "7177bdc0-01ea-4117-8151-31fe032be213",
   "metadata": {},
   "outputs": [
    {
     "data": {
      "text/plain": [
       "5"
      ]
     },
     "execution_count": 107,
     "metadata": {},
     "output_type": "execute_result"
    }
   ],
   "source": [
    "10//2 # floor division "
   ]
  },
  {
   "cell_type": "code",
   "execution_count": 108,
   "id": "0d35f211-7143-4793-8ce2-efbd108c58ce",
   "metadata": {},
   "outputs": [
    {
     "data": {
      "text/plain": [
       "100"
      ]
     },
     "execution_count": 108,
     "metadata": {},
     "output_type": "execute_result"
    }
   ],
   "source": [
    "10**2 # exponention"
   ]
  },
  {
   "cell_type": "code",
   "execution_count": 109,
   "id": "0a6b5407-2e84-43d6-ae02-3673a1b21f4e",
   "metadata": {},
   "outputs": [
    {
     "data": {
      "text/plain": [
       "8"
      ]
     },
     "execution_count": 109,
     "metadata": {},
     "output_type": "execute_result"
    }
   ],
   "source": [
    "10-2  # substraction"
   ]
  },
  {
   "cell_type": "code",
   "execution_count": 112,
   "id": "4495c2b4-ac03-4d69-a244-a8bcca930eb8",
   "metadata": {},
   "outputs": [
    {
     "data": {
      "text/plain": [
       "11"
      ]
     },
     "execution_count": 112,
     "metadata": {},
     "output_type": "execute_result"
    }
   ],
   "source": [
    "x=9\n",
    "x|=3\n",
    "x"
   ]
  },
  {
   "cell_type": "code",
   "execution_count": 113,
   "id": "9dff74ae-c337-4580-89d1-319ebd9ee0fa",
   "metadata": {},
   "outputs": [
    {
     "data": {
      "text/plain": [
       "11"
      ]
     },
     "execution_count": 113,
     "metadata": {},
     "output_type": "execute_result"
    }
   ],
   "source": [
    "x^3\n",
    "x"
   ]
  },
  {
   "cell_type": "code",
   "execution_count": 114,
   "id": "af722ef2-16f2-46d9-b2c7-d1f631650208",
   "metadata": {},
   "outputs": [
    {
     "data": {
      "text/plain": [
       "6"
      ]
     },
     "execution_count": 114,
     "metadata": {},
     "output_type": "execute_result"
    }
   ],
   "source": [
    "5^3"
   ]
  },
  {
   "cell_type": "code",
   "execution_count": 115,
   "id": "1495ccd2-f2b8-44d2-bcc6-454a7b980b88",
   "metadata": {},
   "outputs": [
    {
     "name": "stdout",
     "output_type": "stream",
     "text": [
      "<class 'list'>\n"
     ]
    }
   ],
   "source": [
    "list=[\"appe\",\"man\",\"aaka\"]\n",
    "print(type(list))"
   ]
  },
  {
   "cell_type": "code",
   "execution_count": 119,
   "id": "feec03fb-eedc-4a71-ad8d-124401f1d5ff",
   "metadata": {},
   "outputs": [
    {
     "data": {
      "text/plain": [
       "['banana',\n",
       " 'grapes',\n",
       " 'guuavqa',\n",
       " 'pineapppe',\n",
       " 'eppae',\n",
       " 'watermelon',\n",
       " 'meom',\n",
       " 'apricot']"
      ]
     },
     "execution_count": 119,
     "metadata": {},
     "output_type": "execute_result"
    }
   ],
   "source": [
    "fruits=[\"banana\",\"grapes\",\"guuavqa\",\"pineapppe\",\"eppae\",\"watermelon\",\"meom\",\"apricot\"]\n",
    "fruits"
   ]
  },
  {
   "cell_type": "code",
   "execution_count": 120,
   "id": "10a37c21-c54f-4ac8-8927-9b98248b808c",
   "metadata": {},
   "outputs": [
    {
     "name": "stdout",
     "output_type": "stream",
     "text": [
      "['guuavqa', 'pineapppe', 'eppae']\n"
     ]
    }
   ],
   "source": [
    "print(fruits[2:5])"
   ]
  },
  {
   "cell_type": "code",
   "execution_count": 121,
   "id": "d3ca4c05-9263-48d1-8d9e-e84a830d4208",
   "metadata": {},
   "outputs": [
    {
     "name": "stdout",
     "output_type": "stream",
     "text": [
      "['banana', 'grapes', 'guuavqa', 'pineapppe']\n"
     ]
    }
   ],
   "source": [
    "print(fruits[:4])"
   ]
  },
  {
   "cell_type": "code",
   "execution_count": 122,
   "id": "cb49d677-c52d-447f-9d60-33e9fe1c623c",
   "metadata": {},
   "outputs": [
    {
     "name": "stdout",
     "output_type": "stream",
     "text": [
      "['grapes', 'guuavqa', 'pineapppe', 'eppae', 'watermelon', 'meom', 'apricot']\n"
     ]
    }
   ],
   "source": [
    "print(fruits[1:])"
   ]
  },
  {
   "cell_type": "code",
   "execution_count": 123,
   "id": "2f5f39c4-d98e-48bd-a414-396e9fea1489",
   "metadata": {},
   "outputs": [
    {
     "name": "stdout",
     "output_type": "stream",
     "text": [
      "['grapes', 'guuavqa', 'pineapppe', 'eppae', 'watermelon', 'meom']\n"
     ]
    }
   ],
   "source": [
    "print(fruits[-7:-1])"
   ]
  },
  {
   "cell_type": "code",
   "execution_count": 124,
   "id": "b091e4ca-21a4-45a3-95a9-ae5cd7f2866d",
   "metadata": {},
   "outputs": [
    {
     "name": "stdout",
     "output_type": "stream",
     "text": [
      "item present\n"
     ]
    }
   ],
   "source": [
    "if \"grapes\" in fruits:\n",
    "    print(\"item present\")"
   ]
  },
  {
   "cell_type": "code",
   "execution_count": 125,
   "id": "a09c22c7-1183-4f11-8df4-1272771649a3",
   "metadata": {},
   "outputs": [
    {
     "data": {
      "text/plain": [
       "['banana',\n",
       " 'grapes',\n",
       " 'guuavqa',\n",
       " 'pineapppe',\n",
       " 'eppae',\n",
       " 'watermelon',\n",
       " 'meom',\n",
       " 'apricot']"
      ]
     },
     "execution_count": 125,
     "metadata": {},
     "output_type": "execute_result"
    }
   ],
   "source": [
    "fruits"
   ]
  },
  {
   "cell_type": "code",
   "execution_count": 126,
   "id": "c0c3483c-9dc9-4ff6-a4be-70c31f67ba49",
   "metadata": {},
   "outputs": [],
   "source": [
    "fruits[2]=\"guava\""
   ]
  },
  {
   "cell_type": "code",
   "execution_count": 127,
   "id": "d52b0be7-9e60-42d5-99f8-7cbdd82e0046",
   "metadata": {},
   "outputs": [
    {
     "data": {
      "text/plain": [
       "['banana',\n",
       " 'grapes',\n",
       " 'guava',\n",
       " 'pineapppe',\n",
       " 'eppae',\n",
       " 'watermelon',\n",
       " 'meom',\n",
       " 'apricot']"
      ]
     },
     "execution_count": 127,
     "metadata": {},
     "output_type": "execute_result"
    }
   ],
   "source": [
    "fruits"
   ]
  },
  {
   "cell_type": "code",
   "execution_count": 128,
   "id": "462b550e-4fdf-4ecc-9f97-a12432a559f3",
   "metadata": {},
   "outputs": [
    {
     "data": {
      "text/plain": [
       "['banana',\n",
       " 'blackcurrent',\n",
       " 'musk',\n",
       " 'pineapppe',\n",
       " 'eppae',\n",
       " 'watermelon',\n",
       " 'meom',\n",
       " 'apricot']"
      ]
     },
     "execution_count": 128,
     "metadata": {},
     "output_type": "execute_result"
    }
   ],
   "source": [
    "fruits[1:3]=[\"blackcurrent\",\"musk\"]\n",
    "fruits"
   ]
  },
  {
   "cell_type": "code",
   "execution_count": 129,
   "id": "f4bcce7f-dcc9-47da-8a23-6ceaaf5b1bc4",
   "metadata": {},
   "outputs": [
    {
     "data": {
      "text/plain": [
       "['banana', 'sugarcane', 'pineapppe', 'eppae', 'watermelon', 'meom', 'apricot']"
      ]
     },
     "execution_count": 129,
     "metadata": {},
     "output_type": "execute_result"
    }
   ],
   "source": [
    "fruits[1:3]=[\"sugarcane\"]\n",
    "fruits"
   ]
  },
  {
   "cell_type": "code",
   "execution_count": 130,
   "id": "559e4ca2-5a1f-499a-a167-76deabd12d0d",
   "metadata": {},
   "outputs": [],
   "source": [
    "fruits.insert(3,\"apple\")"
   ]
  },
  {
   "cell_type": "code",
   "execution_count": 131,
   "id": "fdb82857-1151-4b8a-8709-fcccdfaa57ae",
   "metadata": {},
   "outputs": [
    {
     "data": {
      "text/plain": [
       "['banana',\n",
       " 'sugarcane',\n",
       " 'pineapppe',\n",
       " 'apple',\n",
       " 'eppae',\n",
       " 'watermelon',\n",
       " 'meom',\n",
       " 'apricot']"
      ]
     },
     "execution_count": 131,
     "metadata": {},
     "output_type": "execute_result"
    }
   ],
   "source": [
    "fruits"
   ]
  },
  {
   "cell_type": "code",
   "execution_count": 132,
   "id": "cb775de9-7eb3-4c32-8cf4-4fe8c31c29a5",
   "metadata": {},
   "outputs": [
    {
     "data": {
      "text/plain": [
       "['banana',\n",
       " 'sugarcane',\n",
       " 'pineapppe',\n",
       " 'apple',\n",
       " 'eppae',\n",
       " 'watermelon',\n",
       " 'meom',\n",
       " 'apricot',\n",
       " 'mango']"
      ]
     },
     "execution_count": 132,
     "metadata": {},
     "output_type": "execute_result"
    }
   ],
   "source": [
    "fruits.append(\"mango\")\n",
    "fruits"
   ]
  },
  {
   "cell_type": "code",
   "execution_count": 134,
   "id": "52e31fcf-15f6-41ab-a0f9-736f97dee608",
   "metadata": {},
   "outputs": [
    {
     "data": {
      "text/plain": [
       "['banana',\n",
       " 'sugarcane',\n",
       " 'pineapppe',\n",
       " 'apple',\n",
       " 'eppae',\n",
       " 'watermelon',\n",
       " 'meom',\n",
       " 'apricot',\n",
       " 'mango',\n",
       " 'kaire',\n",
       " 'aam',\n",
       " 'chiku']"
      ]
     },
     "execution_count": 134,
     "metadata": {},
     "output_type": "execute_result"
    }
   ],
   "source": [
    "summer_fruits=[\"kaire\",\"aam\",\"chiku\"]\n",
    "fruits.extend(summer_fruits)\n",
    "fruits"
   ]
  },
  {
   "cell_type": "code",
   "execution_count": 135,
   "id": "9ea3be91-32e4-427d-974c-32f56589104e",
   "metadata": {},
   "outputs": [],
   "source": [
    "tup_fruit=(\"lemon\",\"orange\",\"dragon\")\n"
   ]
  },
  {
   "cell_type": "code",
   "execution_count": 136,
   "id": "33e86f13-1a85-4899-9c0a-a919e8b8a501",
   "metadata": {},
   "outputs": [
    {
     "data": {
      "text/plain": [
       "('lemon', 'orange', 'dragon')"
      ]
     },
     "execution_count": 136,
     "metadata": {},
     "output_type": "execute_result"
    }
   ],
   "source": [
    "tup_fruit"
   ]
  },
  {
   "cell_type": "code",
   "execution_count": 137,
   "id": "be6c37ce-d696-40cc-a5d3-eef834017f59",
   "metadata": {},
   "outputs": [
    {
     "data": {
      "text/plain": [
       "['banana',\n",
       " 'sugarcane',\n",
       " 'pineapppe',\n",
       " 'apple',\n",
       " 'eppae',\n",
       " 'watermelon',\n",
       " 'meom',\n",
       " 'apricot',\n",
       " 'mango',\n",
       " 'kaire',\n",
       " 'aam',\n",
       " 'chiku',\n",
       " 'lemon',\n",
       " 'orange',\n",
       " 'dragon']"
      ]
     },
     "execution_count": 137,
     "metadata": {},
     "output_type": "execute_result"
    }
   ],
   "source": [
    "fruits.extend(tup_fruit)\n",
    "fruits"
   ]
  },
  {
   "cell_type": "code",
   "execution_count": 138,
   "id": "35edbe24-4e7b-44c3-97e9-f581a413a4e8",
   "metadata": {},
   "outputs": [],
   "source": [
    "fruits.remove(\"aam\")"
   ]
  },
  {
   "cell_type": "code",
   "execution_count": 139,
   "id": "abc764a0-cf35-4700-8953-f261d32b363b",
   "metadata": {},
   "outputs": [
    {
     "data": {
      "text/plain": [
       "['banana',\n",
       " 'sugarcane',\n",
       " 'pineapppe',\n",
       " 'apple',\n",
       " 'eppae',\n",
       " 'watermelon',\n",
       " 'meom',\n",
       " 'apricot',\n",
       " 'mango',\n",
       " 'kaire',\n",
       " 'chiku',\n",
       " 'lemon',\n",
       " 'orange',\n",
       " 'dragon']"
      ]
     },
     "execution_count": 139,
     "metadata": {},
     "output_type": "execute_result"
    }
   ],
   "source": [
    "fruits"
   ]
  },
  {
   "cell_type": "code",
   "execution_count": 140,
   "id": "fadf7c2d-6afd-453c-afae-28febcfd3e90",
   "metadata": {},
   "outputs": [],
   "source": [
    "fruits.append(\"banana\")"
   ]
  },
  {
   "cell_type": "code",
   "execution_count": 141,
   "id": "51687db1-73bd-486b-a613-1ed06504f52d",
   "metadata": {},
   "outputs": [
    {
     "data": {
      "text/plain": [
       "['banana',\n",
       " 'sugarcane',\n",
       " 'pineapppe',\n",
       " 'apple',\n",
       " 'eppae',\n",
       " 'watermelon',\n",
       " 'meom',\n",
       " 'apricot',\n",
       " 'mango',\n",
       " 'kaire',\n",
       " 'chiku',\n",
       " 'lemon',\n",
       " 'orange',\n",
       " 'dragon',\n",
       " 'banana']"
      ]
     },
     "execution_count": 141,
     "metadata": {},
     "output_type": "execute_result"
    }
   ],
   "source": [
    "fruits"
   ]
  },
  {
   "cell_type": "code",
   "execution_count": 142,
   "id": "6c752f96-c3f7-4842-9edb-fbda7a86dab1",
   "metadata": {},
   "outputs": [
    {
     "data": {
      "text/plain": [
       "['sugarcane',\n",
       " 'pineapppe',\n",
       " 'apple',\n",
       " 'eppae',\n",
       " 'watermelon',\n",
       " 'meom',\n",
       " 'apricot',\n",
       " 'mango',\n",
       " 'kaire',\n",
       " 'chiku',\n",
       " 'lemon',\n",
       " 'orange',\n",
       " 'dragon',\n",
       " 'banana']"
      ]
     },
     "execution_count": 142,
     "metadata": {},
     "output_type": "execute_result"
    }
   ],
   "source": [
    "fruits.remove(\"banana\")\n",
    "fruits"
   ]
  },
  {
   "cell_type": "code",
   "execution_count": 143,
   "id": "63780b6c-c69a-40c3-9319-34d7613b79e5",
   "metadata": {},
   "outputs": [
    {
     "data": {
      "text/plain": [
       "['banana',\n",
       " 'sugarcane',\n",
       " 'pineapppe',\n",
       " 'apple',\n",
       " 'eppae',\n",
       " 'watermelon',\n",
       " 'meom',\n",
       " 'apricot',\n",
       " 'mango',\n",
       " 'kaire',\n",
       " 'chiku',\n",
       " 'lemon',\n",
       " 'orange',\n",
       " 'dragon',\n",
       " 'banana']"
      ]
     },
     "execution_count": 143,
     "metadata": {},
     "output_type": "execute_result"
    }
   ],
   "source": [
    "fruits.insert(0,\"banana\")\n",
    "fruits"
   ]
  },
  {
   "cell_type": "code",
   "execution_count": 144,
   "id": "a5c362a0-e4e8-44c6-8e30-bef3646f8c25",
   "metadata": {},
   "outputs": [
    {
     "data": {
      "text/plain": [
       "['banana',\n",
       " 'sugarcane',\n",
       " 'pineapppe',\n",
       " 'apple',\n",
       " 'eppae',\n",
       " 'watermelon',\n",
       " 'meom',\n",
       " 'apricot',\n",
       " 'mango',\n",
       " 'kaire',\n",
       " 'chiku',\n",
       " 'lemon',\n",
       " 'orange',\n",
       " 'dragon']"
      ]
     },
     "execution_count": 144,
     "metadata": {},
     "output_type": "execute_result"
    }
   ],
   "source": [
    "fruits.pop(-1)\n",
    "fruits"
   ]
  },
  {
   "cell_type": "code",
   "execution_count": 145,
   "id": "638fe69f-d796-46ea-8b02-d0a145197a90",
   "metadata": {},
   "outputs": [
    {
     "data": {
      "text/plain": [
       "['banana',\n",
       " 'sugarcane',\n",
       " 'pineapppe',\n",
       " 'apple',\n",
       " 'eppae',\n",
       " 'watermelon',\n",
       " 'meom',\n",
       " 'apricot',\n",
       " 'mango',\n",
       " 'kaire',\n",
       " 'chiku',\n",
       " 'lemon',\n",
       " 'orange']"
      ]
     },
     "execution_count": 145,
     "metadata": {},
     "output_type": "execute_result"
    }
   ],
   "source": [
    "fruits.pop()\n",
    "fruits"
   ]
  },
  {
   "cell_type": "code",
   "execution_count": 146,
   "id": "6d319d50-1508-498f-bab3-f10b398feecf",
   "metadata": {},
   "outputs": [
    {
     "data": {
      "text/plain": [
       "['banana',\n",
       " 'sugarcane',\n",
       " 'pineapppe',\n",
       " 'apple',\n",
       " 'eppae',\n",
       " 'watermelon',\n",
       " 'meom',\n",
       " 'apricot',\n",
       " 'mango',\n",
       " 'kaire',\n",
       " 'chiku',\n",
       " 'lemon',\n",
       " 'orange']"
      ]
     },
     "execution_count": 146,
     "metadata": {},
     "output_type": "execute_result"
    }
   ],
   "source": [
    "fruits"
   ]
  },
  {
   "cell_type": "code",
   "execution_count": 147,
   "id": "e4ef09c8-4e53-49e9-87f1-73a3ef40d0a9",
   "metadata": {},
   "outputs": [
    {
     "name": "stdout",
     "output_type": "stream",
     "text": [
      "banana\n",
      "sugarcane\n",
      "pineapppe\n",
      "apple\n",
      "eppae\n",
      "watermelon\n",
      "meom\n",
      "apricot\n",
      "mango\n",
      "kaire\n",
      "chiku\n",
      "lemon\n",
      "orange\n"
     ]
    }
   ],
   "source": [
    "for i in fruits:\n",
    "    print(i)"
   ]
  },
  {
   "cell_type": "code",
   "execution_count": 148,
   "id": "ab2408ad-3d0d-4ca6-85b1-b4a88f6668dc",
   "metadata": {},
   "outputs": [
    {
     "name": "stdout",
     "output_type": "stream",
     "text": [
      "banana\n",
      "sugarcane\n",
      "pineapppe\n",
      "apple\n",
      "eppae\n",
      "watermelon\n",
      "meom\n",
      "apricot\n",
      "mango\n",
      "kaire\n",
      "chiku\n",
      "lemon\n",
      "orange\n"
     ]
    }
   ],
   "source": [
    "for i in range(len(fruits)):\n",
    "    print(fruits[i])"
   ]
  },
  {
   "cell_type": "code",
   "execution_count": 149,
   "id": "136a6021-8479-4903-b611-209467aab6e4",
   "metadata": {},
   "outputs": [
    {
     "name": "stdout",
     "output_type": "stream",
     "text": [
      "0\n",
      "1\n",
      "2\n",
      "3\n",
      "4\n",
      "5\n",
      "6\n",
      "7\n",
      "8\n",
      "9\n",
      "10\n",
      "11\n",
      "12\n"
     ]
    }
   ],
   "source": [
    "i=0\n",
    "while i < len(fruits):\n",
    "    print(i)\n",
    "    i=i+1"
   ]
  },
  {
   "cell_type": "code",
   "execution_count": 150,
   "id": "443320bd-1aa8-49be-af88-3f5c42ac4cec",
   "metadata": {},
   "outputs": [
    {
     "name": "stdout",
     "output_type": "stream",
     "text": [
      "<generator object <genexpr> at 0x0000024EB8923340>\n"
     ]
    }
   ],
   "source": [
    "print(x for x in fruits)"
   ]
  },
  {
   "cell_type": "code",
   "execution_count": 151,
   "id": "f0f97e62-dfae-4efa-9dff-3f7ee0272c9c",
   "metadata": {},
   "outputs": [
    {
     "name": "stdout",
     "output_type": "stream",
     "text": [
      "banana\n",
      "sugarcane\n",
      "pineapppe\n",
      "apple\n",
      "eppae\n",
      "watermelon\n",
      "meom\n",
      "apricot\n",
      "mango\n",
      "kaire\n",
      "chiku\n",
      "lemon\n",
      "orange\n"
     ]
    },
    {
     "data": {
      "text/plain": [
       "[None, None, None, None, None, None, None, None, None, None, None, None, None]"
      ]
     },
     "execution_count": 151,
     "metadata": {},
     "output_type": "execute_result"
    }
   ],
   "source": [
    "[print(x) for x in fruits]"
   ]
  },
  {
   "cell_type": "code",
   "execution_count": 152,
   "id": "61b43f5f-4859-4451-9e6f-ea081bf0bb97",
   "metadata": {},
   "outputs": [
    {
     "data": {
      "text/plain": [
       "['banana',\n",
       " 'sugarcane',\n",
       " 'pineapppe',\n",
       " 'apple',\n",
       " 'eppae',\n",
       " 'watermelon',\n",
       " 'apricot',\n",
       " 'mango',\n",
       " 'kaire',\n",
       " 'orange']"
      ]
     },
     "execution_count": 152,
     "metadata": {},
     "output_type": "execute_result"
    }
   ],
   "source": [
    "new_list=[x for x in fruits if \"a\" in x]\n",
    "new_list"
   ]
  },
  {
   "cell_type": "code",
   "execution_count": 155,
   "id": "d729b7c5-92ec-4288-b1aa-f05f008f966d",
   "metadata": {},
   "outputs": [
    {
     "data": {
      "text/plain": [
       "['banana',\n",
       " 'sugarcane',\n",
       " 'pineapppe',\n",
       " 'eppae',\n",
       " 'watermelon',\n",
       " 'meom',\n",
       " 'apricot',\n",
       " 'mango',\n",
       " 'kaire',\n",
       " 'chiku',\n",
       " 'lemon',\n",
       " 'orange',\n",
       " 'apple']"
      ]
     },
     "execution_count": 155,
     "metadata": {},
     "output_type": "execute_result"
    }
   ],
   "source": [
    "new_list=[x for x in fruits if x!=\"apple\"]\n",
    "new_list.append(\"apple\")\n",
    "new_list"
   ]
  },
  {
   "cell_type": "code",
   "execution_count": 154,
   "id": "36ea028a-c925-482b-8899-7a1792568211",
   "metadata": {},
   "outputs": [
    {
     "data": {
      "text/plain": [
       "['banana',\n",
       " 'sugarcane',\n",
       " 'pineapppe',\n",
       " 'apple',\n",
       " 'eppae',\n",
       " 'watermelon',\n",
       " 'meom',\n",
       " 'apricot',\n",
       " 'mango',\n",
       " 'kaire',\n",
       " 'chiku',\n",
       " 'lemon',\n",
       " 'orange']"
      ]
     },
     "execution_count": 154,
     "metadata": {},
     "output_type": "execute_result"
    }
   ],
   "source": [
    "fruits"
   ]
  },
  {
   "cell_type": "code",
   "execution_count": 156,
   "id": "aabd9407-df65-4313-917d-1aeedb53d6aa",
   "metadata": {},
   "outputs": [],
   "source": [
    "new=[x for x in range(10)]"
   ]
  },
  {
   "cell_type": "code",
   "execution_count": 157,
   "id": "dd9253e8-9c92-48b0-9efd-7bc40e313f15",
   "metadata": {},
   "outputs": [
    {
     "data": {
      "text/plain": [
       "[0, 1, 2, 3, 4, 5, 6, 7, 8, 9]"
      ]
     },
     "execution_count": 157,
     "metadata": {},
     "output_type": "execute_result"
    }
   ],
   "source": [
    "\n",
    "new"
   ]
  },
  {
   "cell_type": "code",
   "execution_count": 159,
   "id": "dd4a97e8-1b60-4a55-b719-8f209a5fb175",
   "metadata": {},
   "outputs": [
    {
     "data": {
      "text/plain": [
       "[0, 1, 2, 3, 4]"
      ]
     },
     "execution_count": 159,
     "metadata": {},
     "output_type": "execute_result"
    }
   ],
   "source": [
    "new =[x for x in range(10) if x<5]\n",
    "new"
   ]
  },
  {
   "cell_type": "code",
   "execution_count": 160,
   "id": "73dfedeb-4b50-4cc7-a0fa-e4e682a8c1b5",
   "metadata": {},
   "outputs": [
    {
     "data": {
      "text/plain": [
       "['BANANA',\n",
       " 'SUGARCANE',\n",
       " 'PINEAPPPE',\n",
       " 'APPLE',\n",
       " 'EPPAE',\n",
       " 'WATERMELON',\n",
       " 'MEOM',\n",
       " 'APRICOT',\n",
       " 'MANGO',\n",
       " 'KAIRE',\n",
       " 'CHIKU',\n",
       " 'LEMON',\n",
       " 'ORANGE']"
      ]
     },
     "execution_count": 160,
     "metadata": {},
     "output_type": "execute_result"
    }
   ],
   "source": [
    "new_list=[x.upper() for x in fruits]\n",
    "new_list"
   ]
  },
  {
   "cell_type": "code",
   "execution_count": 163,
   "id": "a0ea2f00-a018-47c9-a0ff-1044fab5df7e",
   "metadata": {},
   "outputs": [
    {
     "data": {
      "text/plain": [
       "['hello',\n",
       " 'hello',\n",
       " 'hello',\n",
       " 'hello',\n",
       " 'hello',\n",
       " 'hello',\n",
       " 'hello',\n",
       " 'hello',\n",
       " 'hello',\n",
       " 'hello',\n",
       " 'hello',\n",
       " 'hello',\n",
       " 'hello']"
      ]
     },
     "execution_count": 163,
     "metadata": {},
     "output_type": "execute_result"
    }
   ],
   "source": [
    "newlist=[\"hello\" for x in fruits]\n",
    "newlist"
   ]
  },
  {
   "cell_type": "code",
   "execution_count": 164,
   "id": "0c199ab7-1b7d-4b4a-be85-4c465e31b567",
   "metadata": {},
   "outputs": [
    {
     "data": {
      "text/plain": [
       "['hello',\n",
       " 'hello',\n",
       " 'hello',\n",
       " 'hello',\n",
       " 'hello',\n",
       " 'hello',\n",
       " 'hello',\n",
       " 'hello',\n",
       " 'hello',\n",
       " 'hello',\n",
       " 'hello',\n",
       " 'hello',\n",
       " 'hello']"
      ]
     },
     "execution_count": 164,
     "metadata": {},
     "output_type": "execute_result"
    }
   ],
   "source": [
    "newlist"
   ]
  },
  {
   "cell_type": "raw",
   "id": "71ee903f-86dd-4b40-8006-6fd7740a9af0",
   "metadata": {},
   "source": [
    "fruits"
   ]
  },
  {
   "cell_type": "code",
   "execution_count": 166,
   "id": "00353128-cc3b-49d3-bb3c-ce93580783a5",
   "metadata": {},
   "outputs": [],
   "source": [
    "fruits.sort()"
   ]
  },
  {
   "cell_type": "code",
   "execution_count": 167,
   "id": "df069113-6899-46c6-a89b-a74e78789001",
   "metadata": {},
   "outputs": [
    {
     "data": {
      "text/plain": [
       "['apple',\n",
       " 'apricot',\n",
       " 'banana',\n",
       " 'chiku',\n",
       " 'eppae',\n",
       " 'kaire',\n",
       " 'lemon',\n",
       " 'mango',\n",
       " 'meom',\n",
       " 'orange',\n",
       " 'pineapppe',\n",
       " 'sugarcane',\n",
       " 'watermelon']"
      ]
     },
     "execution_count": 167,
     "metadata": {},
     "output_type": "execute_result"
    }
   ],
   "source": [
    "fruits"
   ]
  },
  {
   "cell_type": "code",
   "execution_count": 168,
   "id": "ddc22cdf-18aa-40e3-91b0-0f3f52912fb7",
   "metadata": {},
   "outputs": [
    {
     "data": {
      "text/plain": [
       "['watermelon',\n",
       " 'sugarcane',\n",
       " 'pineapppe',\n",
       " 'orange',\n",
       " 'meom',\n",
       " 'mango',\n",
       " 'lemon',\n",
       " 'kaire',\n",
       " 'eppae',\n",
       " 'chiku',\n",
       " 'banana',\n",
       " 'apricot',\n",
       " 'apple']"
      ]
     },
     "execution_count": 168,
     "metadata": {},
     "output_type": "execute_result"
    }
   ],
   "source": [
    "fruits.sort(reverse=True)\n",
    "fruits"
   ]
  },
  {
   "cell_type": "code",
   "execution_count": 169,
   "id": "1c7829bd-d2d4-401b-9810-aa738b4e9ad9",
   "metadata": {},
   "outputs": [
    {
     "data": {
      "text/plain": [
       "[100, 50, 65, 82, 45, 67, 90]"
      ]
     },
     "execution_count": 169,
     "metadata": {},
     "output_type": "execute_result"
    }
   ],
   "source": [
    "no_ist=[100,50,65,82,45,67,90]\n",
    "no_ist"
   ]
  },
  {
   "cell_type": "code",
   "execution_count": 173,
   "id": "bab5fd2c-5a0f-4a7c-a99a-d0e662c31e14",
   "metadata": {},
   "outputs": [],
   "source": [
    "def myfunc(n):\n",
    "    return abs(n-50)"
   ]
  },
  {
   "cell_type": "code",
   "execution_count": 174,
   "id": "c2946c11-1fd8-4ea3-b676-aee8e3f64bbe",
   "metadata": {},
   "outputs": [
    {
     "name": "stdout",
     "output_type": "stream",
     "text": [
      "[50, 45, 65, 67, 82, 90, 100]\n"
     ]
    }
   ],
   "source": [
    "no_ist.sort(key=myfunc)\n",
    "print(no_ist)"
   ]
  },
  {
   "cell_type": "code",
   "execution_count": 185,
   "id": "ce1161ba-8921-4bfe-beeb-4b63cfc36b07",
   "metadata": {},
   "outputs": [
    {
     "data": {
      "text/plain": [
       "['apple',\n",
       " 'apricot',\n",
       " 'banana',\n",
       " 'chiku',\n",
       " 'eppae',\n",
       " 'kaire',\n",
       " 'lemon',\n",
       " 'mango',\n",
       " 'meom',\n",
       " 'orange',\n",
       " 'pineapppe',\n",
       " 'sugarcane',\n",
       " 'watermelon']"
      ]
     },
     "execution_count": 185,
     "metadata": {},
     "output_type": "execute_result"
    }
   ],
   "source": [
    "fruits.reverse()\n",
    "fruits"
   ]
  },
  {
   "cell_type": "code",
   "execution_count": 186,
   "id": "e7dfb5c5-df6f-46c6-ad03-33119c6e9287",
   "metadata": {},
   "outputs": [
    {
     "data": {
      "text/plain": [
       "['apple',\n",
       " 'apricot',\n",
       " 'banana',\n",
       " 'chiku',\n",
       " 'eppae',\n",
       " 'kaire',\n",
       " 'lemon',\n",
       " 'mango',\n",
       " 'meom',\n",
       " 'orange',\n",
       " 'pineapppe',\n",
       " 'sugarcane',\n",
       " 'watermelon']"
      ]
     },
     "execution_count": 186,
     "metadata": {},
     "output_type": "execute_result"
    }
   ],
   "source": [
    "fruits"
   ]
  },
  {
   "cell_type": "code",
   "execution_count": 187,
   "id": "a7c5c335-c7b2-41f0-8043-c468291006a1",
   "metadata": {},
   "outputs": [
    {
     "data": {
      "text/plain": [
       "['apple',\n",
       " 'apricot',\n",
       " 'banana',\n",
       " 'chiku',\n",
       " 'eppae',\n",
       " 'kaire',\n",
       " 'lemon',\n",
       " 'mango',\n",
       " 'meom',\n",
       " 'orange',\n",
       " 'pineapppe',\n",
       " 'sugarcane',\n",
       " 'watermelon']"
      ]
     },
     "execution_count": 187,
     "metadata": {},
     "output_type": "execute_result"
    }
   ],
   "source": [
    "fruit_basket=fruits.copy()\n",
    "fruit_basket"
   ]
  },
  {
   "cell_type": "code",
   "execution_count": 189,
   "id": "fa9c20f8-4c01-4fb8-8ac2-86b899c8596c",
   "metadata": {},
   "outputs": [
    {
     "data": {
      "text/plain": [
       "['apple',\n",
       " 'apricot',\n",
       " 'banana',\n",
       " 'chiku',\n",
       " 'eppae',\n",
       " 'kaire',\n",
       " 'lemon',\n",
       " 'mango',\n",
       " 'meom',\n",
       " 'orange',\n",
       " 'pineapppe',\n",
       " 'sugarcane',\n",
       " 'watermelon',\n",
       " 'apple',\n",
       " 'apricot',\n",
       " 'banana',\n",
       " 'chiku',\n",
       " 'eppae',\n",
       " 'kaire',\n",
       " 'lemon',\n",
       " 'mango',\n",
       " 'meom',\n",
       " 'orange',\n",
       " 'pineapppe',\n",
       " 'sugarcane',\n",
       " 'watermelon']"
      ]
     },
     "execution_count": 189,
     "metadata": {},
     "output_type": "execute_result"
    }
   ],
   "source": [
    "big_basket=fruits+fruit_basket\n",
    "big_basket"
   ]
  },
  {
   "cell_type": "code",
   "execution_count": 190,
   "id": "79bca923-1b95-42cc-9297-24fde5abe02f",
   "metadata": {},
   "outputs": [
    {
     "data": {
      "text/plain": [
       "['a', 'b', 'c', 1, 2, 3, 4]"
      ]
     },
     "execution_count": 190,
     "metadata": {},
     "output_type": "execute_result"
    }
   ],
   "source": [
    "list1=[\"a\",\"b\",\"c\"]\n",
    "list2=[1,2,3,4]\n",
    "list3=list1+list2\n",
    "list3"
   ]
  },
  {
   "cell_type": "code",
   "execution_count": 191,
   "id": "66c71a15-40f0-4c05-ac20-5a41704b5e36",
   "metadata": {},
   "outputs": [
    {
     "name": "stdout",
     "output_type": "stream",
     "text": [
      "['a', 'b', 'c', 1, 2, 3, 4]\n"
     ]
    }
   ],
   "source": [
    "for x in list2:\n",
    "    list1.append(x)\n",
    "\n",
    "print(list1)"
   ]
  },
  {
   "cell_type": "code",
   "execution_count": 194,
   "id": "103df7ec-c57c-4cdc-b53a-394f2442b963",
   "metadata": {},
   "outputs": [
    {
     "data": {
      "text/plain": [
       "['apple',\n",
       " 'apricot',\n",
       " 'banana',\n",
       " 'chiku',\n",
       " 'eppae',\n",
       " 'kaire',\n",
       " 'lemon',\n",
       " 'mango',\n",
       " 'meom',\n",
       " 'orange',\n",
       " 'pineapppe',\n",
       " 'sugarcane',\n",
       " 'watermelon']"
      ]
     },
     "execution_count": 194,
     "metadata": {},
     "output_type": "execute_result"
    }
   ],
   "source": [
    "\n",
    "fruits"
   ]
  },
  {
   "cell_type": "code",
   "execution_count": 195,
   "id": "bed4c913-4927-4bba-ae73-a13a174dfbbc",
   "metadata": {},
   "outputs": [
    {
     "data": {
      "text/plain": [
       "['apple',\n",
       " 'apricot',\n",
       " 'banana',\n",
       " 'chiku',\n",
       " 'eppae',\n",
       " 'kaire',\n",
       " 'lemon',\n",
       " 'mango',\n",
       " 'meom',\n",
       " 'orange',\n",
       " 'pineapppe',\n",
       " 'sugarcane',\n",
       " 'watermelon',\n",
       " 'apple',\n",
       " 'apricot',\n",
       " 'banana',\n",
       " 'chiku',\n",
       " 'eppae',\n",
       " 'kaire',\n",
       " 'lemon',\n",
       " 'mango',\n",
       " 'meom',\n",
       " 'orange',\n",
       " 'pineapppe',\n",
       " 'sugarcane',\n",
       " 'watermelon']"
      ]
     },
     "execution_count": 195,
     "metadata": {},
     "output_type": "execute_result"
    }
   ],
   "source": [
    "big_basket"
   ]
  },
  {
   "cell_type": "code",
   "execution_count": 196,
   "id": "63978390-9867-4f71-8063-22c0049b8de0",
   "metadata": {},
   "outputs": [
    {
     "data": {
      "text/plain": [
       "2"
      ]
     },
     "execution_count": 196,
     "metadata": {},
     "output_type": "execute_result"
    }
   ],
   "source": [
    "big_basket.count(\"mango\")"
   ]
  },
  {
   "cell_type": "code",
   "execution_count": 197,
   "id": "9df7f59a-eae3-402b-b607-26bb5a621c58",
   "metadata": {},
   "outputs": [],
   "source": [
    "cars=(\"bmw\",\"mercedes\",\"addi\",\"ford\",\"ferrari\",\"msruti\")"
   ]
  },
  {
   "cell_type": "code",
   "execution_count": 198,
   "id": "e095fb05-3aa5-444c-8a80-407171842d5f",
   "metadata": {},
   "outputs": [
    {
     "name": "stdout",
     "output_type": "stream",
     "text": [
      "<class 'tuple'>\n"
     ]
    }
   ],
   "source": [
    "print(type(cars))"
   ]
  },
  {
   "cell_type": "code",
   "execution_count": 201,
   "id": "4f412238-d694-4b33-9fa9-4638e54faa2e",
   "metadata": {},
   "outputs": [
    {
     "name": "stdout",
     "output_type": "stream",
     "text": [
      "<class 'tuple'>\n"
     ]
    }
   ],
   "source": [
    "car=(\"eer\",)\n",
    "print(type(car))"
   ]
  },
  {
   "cell_type": "code",
   "execution_count": 200,
   "id": "6b04f0d9-148f-4c9c-afe6-dc75c04ba120",
   "metadata": {},
   "outputs": [
    {
     "data": {
      "text/plain": [
       "str"
      ]
     },
     "execution_count": 200,
     "metadata": {},
     "output_type": "execute_result"
    }
   ],
   "source": [
    "car=(\"best\")\n",
    "type(car)"
   ]
  },
  {
   "cell_type": "code",
   "execution_count": 202,
   "id": "b835c87b-3acd-4e33-ad3f-9b73904b126b",
   "metadata": {},
   "outputs": [
    {
     "data": {
      "text/plain": [
       "('bmw', 'mercedes', 'addi', 'ford', 'ferrari', 'msruti')"
      ]
     },
     "execution_count": 202,
     "metadata": {},
     "output_type": "execute_result"
    }
   ],
   "source": [
    "cars"
   ]
  },
  {
   "cell_type": "code",
   "execution_count": 208,
   "id": "418eca3d-a537-4cd7-a908-9dcbad5c11aa",
   "metadata": {},
   "outputs": [
    {
     "data": {
      "text/plain": [
       "('x', 'y', 'z', 1, 2, 3)"
      ]
     },
     "execution_count": 208,
     "metadata": {},
     "output_type": "execute_result"
    }
   ],
   "source": [
    "z=(\"x\",\"y\",\"z\")\n",
    "q=(1,2,3)\n",
    "d=[1.4,True,2,2+3j]\n",
    "f=z+q\n",
    "f"
   ]
  },
  {
   "cell_type": "code",
   "execution_count": 209,
   "id": "03303faf-c112-4613-995d-1b85e389eca6",
   "metadata": {},
   "outputs": [
    {
     "ename": "NameError",
     "evalue": "name 'q' is not defined",
     "output_type": "error",
     "traceback": [
      "\u001b[1;31m---------------------------------------------------------------------------\u001b[0m",
      "\u001b[1;31mNameError\u001b[0m                                 Traceback (most recent call last)",
      "Cell \u001b[1;32mIn[209], line 2\u001b[0m\n\u001b[0;32m      1\u001b[0m \u001b[38;5;28;01mdel\u001b[39;00m q\n\u001b[1;32m----> 2\u001b[0m \u001b[38;5;28mprint\u001b[39m(\u001b[43mq\u001b[49m)\n",
      "\u001b[1;31mNameError\u001b[0m: name 'q' is not defined"
     ]
    }
   ],
   "source": [
    "del q\n",
    "print(q)"
   ]
  },
  {
   "cell_type": "code",
   "execution_count": 210,
   "id": "4550d153-5e4c-48b9-93ca-7817d98b8168",
   "metadata": {},
   "outputs": [
    {
     "data": {
      "text/plain": [
       "('x', 'y', 'z')"
      ]
     },
     "execution_count": 210,
     "metadata": {},
     "output_type": "execute_result"
    }
   ],
   "source": [
    "z\n"
   ]
  },
  {
   "cell_type": "code",
   "execution_count": 220,
   "id": "9977f2ec-15c9-476a-96f1-4d7950db5635",
   "metadata": {},
   "outputs": [
    {
     "name": "stdout",
     "output_type": "stream",
     "text": [
      "mango\n"
     ]
    }
   ],
   "source": [
    "fruit=(\"mango\",\"banana\",\"peru\",\"watermelon\",\"strawberry\")\n",
    "(green,yellow,*pista,red)=fruit\n",
    "print(green)"
   ]
  },
  {
   "cell_type": "code",
   "execution_count": 221,
   "id": "8b8fb2f8-ca93-4500-8137-2dc04020d45d",
   "metadata": {},
   "outputs": [
    {
     "name": "stdout",
     "output_type": "stream",
     "text": [
      "mango banana peru watermelon\n"
     ]
    }
   ],
   "source": [
    "print(green,yellow,*pista)"
   ]
  },
  {
   "cell_type": "code",
   "execution_count": 218,
   "id": "a894a73e-04a2-4b64-95ac-8358fe790ba7",
   "metadata": {},
   "outputs": [
    {
     "name": "stdout",
     "output_type": "stream",
     "text": [
      "watermelon strawberry\n"
     ]
    }
   ],
   "source": [
    "print(*red)"
   ]
  },
  {
   "cell_type": "code",
   "execution_count": 222,
   "id": "6d31fbb6-f133-4bba-b336-a293e001c545",
   "metadata": {},
   "outputs": [
    {
     "name": "stdout",
     "output_type": "stream",
     "text": [
      "mango\n",
      "banana\n",
      "peru\n",
      "watermelon\n",
      "strawberry\n"
     ]
    }
   ],
   "source": [
    "for x in fruit:\n",
    "    print(x)\n"
   ]
  },
  {
   "cell_type": "code",
   "execution_count": 224,
   "id": "f5782e27-061e-44bd-ac3d-7c11691a4b49",
   "metadata": {},
   "outputs": [
    {
     "name": "stdout",
     "output_type": "stream",
     "text": [
      "mango\n",
      "banana\n",
      "peru\n",
      "watermelon\n",
      "strawberry\n"
     ]
    }
   ],
   "source": [
    "for x in range(len(fruit)):\n",
    "    print(fruit[x])"
   ]
  },
  {
   "cell_type": "code",
   "execution_count": 225,
   "id": "10683b5f-5846-4ad0-a310-fc2327542c11",
   "metadata": {},
   "outputs": [
    {
     "data": {
      "text/plain": [
       "('mango', 'banana', 'peru', 'watermelon', 'strawberry')"
      ]
     },
     "execution_count": 225,
     "metadata": {},
     "output_type": "execute_result"
    }
   ],
   "source": [
    "fruit"
   ]
  },
  {
   "cell_type": "code",
   "execution_count": 229,
   "id": "f134b2d9-8517-4fa2-a18d-a310461ad20b",
   "metadata": {},
   "outputs": [
    {
     "name": "stdout",
     "output_type": "stream",
     "text": [
      "('mango', 'banana', 'peru', 'watermelon', 'strawberry', 'mango', 'banana', 'peru', 'watermelon', 'strawberry', 'mango', 'banana', 'peru', 'watermelon', 'strawberry')\n"
     ]
    }
   ],
   "source": [
    "mytuple=fruit*3\n",
    "print(mytuple)"
   ]
  },
  {
   "cell_type": "code",
   "execution_count": 230,
   "id": "d0d69376-e55b-49a9-9562-142e889cec62",
   "metadata": {},
   "outputs": [
    {
     "data": {
      "text/plain": [
       "3"
      ]
     },
     "execution_count": 230,
     "metadata": {},
     "output_type": "execute_result"
    }
   ],
   "source": [
    "mytuple.count(\"peru\")"
   ]
  },
  {
   "cell_type": "code",
   "execution_count": 233,
   "id": "7c2bb4fe-3357-4207-b9ef-583a5d3b6e72",
   "metadata": {},
   "outputs": [
    {
     "data": {
      "text/plain": [
       "2"
      ]
     },
     "execution_count": 233,
     "metadata": {},
     "output_type": "execute_result"
    }
   ],
   "source": [
    "mytuple.index(\"peru\")"
   ]
  },
  {
   "cell_type": "code",
   "execution_count": 234,
   "id": "b361dcc6-1c27-4c6a-b7f3-2812e7194d99",
   "metadata": {},
   "outputs": [
    {
     "name": "stdout",
     "output_type": "stream",
     "text": [
      "{'y', 'x', 'z'}\n"
     ]
    }
   ],
   "source": [
    "myset={\"x\",\"y\",\"z\"}\n",
    "print(myset)"
   ]
  },
  {
   "cell_type": "code",
   "execution_count": 235,
   "id": "e325ab1d-dbf2-4895-bfba-414463f20ec8",
   "metadata": {},
   "outputs": [
    {
     "data": {
      "text/plain": [
       "{'x', 'y', 'z'}"
      ]
     },
     "execution_count": 235,
     "metadata": {},
     "output_type": "execute_result"
    }
   ],
   "source": [
    "myset"
   ]
  },
  {
   "cell_type": "code",
   "execution_count": 236,
   "id": "55a44c55-92f2-456f-8f04-fcd33a8450aa",
   "metadata": {},
   "outputs": [
    {
     "data": {
      "text/plain": [
       "{'x', 'y', 'z'}"
      ]
     },
     "execution_count": 236,
     "metadata": {},
     "output_type": "execute_result"
    }
   ],
   "source": [
    "myset"
   ]
  },
  {
   "cell_type": "code",
   "execution_count": 239,
   "id": "2a321670-c339-4179-b81b-93f5595fb87f",
   "metadata": {},
   "outputs": [
    {
     "data": {
      "text/plain": [
       "{0, 3, True, 'w', 'z'}"
      ]
     },
     "execution_count": 239,
     "metadata": {},
     "output_type": "execute_result"
    }
   ],
   "source": [
    "myset1={\"z\",\"w\",3,True,0,1}\n",
    "myset1"
   ]
  },
  {
   "cell_type": "code",
   "execution_count": 241,
   "id": "5bac2de6-cf4b-47e7-a260-21f598d49cfa",
   "metadata": {},
   "outputs": [
    {
     "data": {
      "text/plain": [
       "5"
      ]
     },
     "execution_count": 241,
     "metadata": {},
     "output_type": "execute_result"
    }
   ],
   "source": [
    "len(myset1)"
   ]
  },
  {
   "cell_type": "code",
   "execution_count": 242,
   "id": "95ab9f44-9d09-4344-b949-c8cdb341ef14",
   "metadata": {},
   "outputs": [
    {
     "name": "stdout",
     "output_type": "stream",
     "text": [
      "<class 'set'>\n"
     ]
    }
   ],
   "source": [
    "print(type(myset1))"
   ]
  },
  {
   "cell_type": "code",
   "execution_count": 243,
   "id": "7803f893-cb80-4858-a2dc-058735f4411d",
   "metadata": {},
   "outputs": [
    {
     "name": "stdout",
     "output_type": "stream",
     "text": [
      "0\n",
      "True\n",
      "3\n",
      "z\n",
      "w\n"
     ]
    }
   ],
   "source": [
    "for x in myset1:\n",
    "    print(x)"
   ]
  },
  {
   "cell_type": "code",
   "execution_count": 244,
   "id": "db9a9857-ed44-47e9-a6b5-0bb2c02f1bda",
   "metadata": {},
   "outputs": [
    {
     "name": "stdout",
     "output_type": "stream",
     "text": [
      "True\n"
     ]
    }
   ],
   "source": [
    "print(0 in myset1)"
   ]
  },
  {
   "cell_type": "code",
   "execution_count": 246,
   "id": "a16e2f8f-eadd-4c5b-9094-24139b9caf41",
   "metadata": {},
   "outputs": [
    {
     "name": "stdout",
     "output_type": "stream",
     "text": [
      "False\n"
     ]
    }
   ],
   "source": [
    "print(2 in myset1)"
   ]
  },
  {
   "cell_type": "code",
   "execution_count": 247,
   "id": "12b83982-d255-4499-b85c-912b5c16880d",
   "metadata": {},
   "outputs": [],
   "source": [
    "myset1.add(23)"
   ]
  },
  {
   "cell_type": "code",
   "execution_count": 248,
   "id": "03f3d1d7-ebba-4f56-8002-256263c83ce0",
   "metadata": {},
   "outputs": [
    {
     "data": {
      "text/plain": [
       "{0, 23, 3, True, 'w', 'z'}"
      ]
     },
     "execution_count": 248,
     "metadata": {},
     "output_type": "execute_result"
    }
   ],
   "source": [
    "myset1"
   ]
  },
  {
   "cell_type": "code",
   "execution_count": 249,
   "id": "0444ebd6-4a5d-4c64-aea3-42c904c0d9c2",
   "metadata": {},
   "outputs": [],
   "source": [
    "myset.update(myset1)\n"
   ]
  },
  {
   "cell_type": "code",
   "execution_count": 250,
   "id": "2280942b-bdb7-4acf-b429-b44eb18a0c1a",
   "metadata": {},
   "outputs": [
    {
     "data": {
      "text/plain": [
       "{0, 23, 3, True, 'w', 'x', 'y', 'z'}"
      ]
     },
     "execution_count": 250,
     "metadata": {},
     "output_type": "execute_result"
    }
   ],
   "source": [
    "myset"
   ]
  },
  {
   "cell_type": "code",
   "execution_count": 255,
   "id": "ae910fc5-7713-4ed6-9b80-374f534dddd0",
   "metadata": {},
   "outputs": [
    {
     "data": {
      "text/plain": [
       "{0, 23, 3, 33.43, 9, 999, True, 'i am a king', 'w', 'x', 'y', 'z'}"
      ]
     },
     "execution_count": 255,
     "metadata": {},
     "output_type": "execute_result"
    }
   ],
   "source": [
    "mylist=[999,True,False,33.43,9,\"i am a king\"]\n",
    "myset.update(mylist)\n",
    "myset"
   ]
  },
  {
   "cell_type": "code",
   "execution_count": 256,
   "id": "a56493ca-693a-4fa1-8aa5-cb5019c13596",
   "metadata": {},
   "outputs": [
    {
     "data": {
      "text/plain": [
       "{0, 23, 3, 9, 999, True, 'i am a king', 'w', 'x', 'y', 'z'}"
      ]
     },
     "execution_count": 256,
     "metadata": {},
     "output_type": "execute_result"
    }
   ],
   "source": [
    "myset.remove(33.43)\n",
    "myset"
   ]
  },
  {
   "cell_type": "code",
   "execution_count": 257,
   "id": "6034fcc1-e587-4ef1-9369-c986e3384998",
   "metadata": {},
   "outputs": [
    {
     "data": {
      "text/plain": [
       "{0, 23, 3, 9, 999, True, 'i am a king', 'x', 'y', 'z'}"
      ]
     },
     "execution_count": 257,
     "metadata": {},
     "output_type": "execute_result"
    }
   ],
   "source": [
    "myset.discard(\"w\")\n",
    "myset"
   ]
  },
  {
   "cell_type": "code",
   "execution_count": 258,
   "id": "c9be2ad5-86f5-461c-a71f-7652fdf1d798",
   "metadata": {},
   "outputs": [
    {
     "data": {
      "text/plain": [
       "{0, 23, 3, 9, 999, True, 'i am a king', 'x', 'y', 'z'}"
      ]
     },
     "execution_count": 258,
     "metadata": {},
     "output_type": "execute_result"
    }
   ],
   "source": [
    "myset.discard(\"q\")\n",
    "myset"
   ]
  },
  {
   "cell_type": "code",
   "execution_count": 259,
   "id": "ada680f6-6938-4305-9b23-bc9616edd688",
   "metadata": {},
   "outputs": [
    {
     "ename": "KeyError",
     "evalue": "'q'",
     "output_type": "error",
     "traceback": [
      "\u001b[1;31m---------------------------------------------------------------------------\u001b[0m",
      "\u001b[1;31mKeyError\u001b[0m                                  Traceback (most recent call last)",
      "Cell \u001b[1;32mIn[259], line 1\u001b[0m\n\u001b[1;32m----> 1\u001b[0m \u001b[43mmyset\u001b[49m\u001b[38;5;241;43m.\u001b[39;49m\u001b[43mremove\u001b[49m\u001b[43m(\u001b[49m\u001b[38;5;124;43m\"\u001b[39;49m\u001b[38;5;124;43mq\u001b[39;49m\u001b[38;5;124;43m\"\u001b[39;49m\u001b[43m)\u001b[49m\n\u001b[0;32m      2\u001b[0m myset\n",
      "\u001b[1;31mKeyError\u001b[0m: 'q'"
     ]
    }
   ],
   "source": [
    "myset.remove(\"q\")\n",
    "myset"
   ]
  },
  {
   "cell_type": "code",
   "execution_count": 260,
   "id": "b393f702-6e54-440b-8bd1-b2ea5d6cbee2",
   "metadata": {},
   "outputs": [
    {
     "data": {
      "text/plain": [
       "{23, 3, 9, 999, True, 'i am a king', 'x', 'y', 'z'}"
      ]
     },
     "execution_count": 260,
     "metadata": {},
     "output_type": "execute_result"
    }
   ],
   "source": [
    "myset.pop()\n",
    "myset"
   ]
  },
  {
   "cell_type": "code",
   "execution_count": 261,
   "id": "5a29f547-ec09-4195-8382-47b444d17d1e",
   "metadata": {},
   "outputs": [
    {
     "name": "stdout",
     "output_type": "stream",
     "text": [
      "apple\n",
      "{'cherry', 'banana'}\n"
     ]
    }
   ],
   "source": [
    "thisset = {\"apple\", \"banana\", \"cherry\"}\n",
    "\n",
    "x = thisset.pop()\n",
    "\n",
    "print(x)\n",
    "\n",
    "print(thisset)"
   ]
  },
  {
   "cell_type": "code",
   "execution_count": 262,
   "id": "c4ab535a-e887-4dcc-8f39-33dd2d07b284",
   "metadata": {},
   "outputs": [
    {
     "data": {
      "text/plain": [
       "{0, 23, 3, 9, 999, True, 'i am a king', 'w', 'x', 'y', 'z'}"
      ]
     },
     "execution_count": 262,
     "metadata": {},
     "output_type": "execute_result"
    }
   ],
   "source": [
    "myset.union(myset1)\n"
   ]
  },
  {
   "cell_type": "code",
   "execution_count": 266,
   "id": "5507808c-18cb-40c9-a14d-d79dd173dd72",
   "metadata": {},
   "outputs": [
    {
     "name": "stdout",
     "output_type": "stream",
     "text": [
      "{1, 2, 3, 4, 5, 6, 'a', 'c', 'e', 'b', 'd'}\n"
     ]
    }
   ],
   "source": [
    "set1={\"a\",\"b\",\"c\",\"d\",\"e\"}\n",
    "set2={1,2,3,4,5,6}\n",
    "p=set1.union(set2)\n",
    "print(p)"
   ]
  },
  {
   "cell_type": "code",
   "execution_count": 267,
   "id": "f6f45955-455f-4db1-86ac-9dc70e77f2b6",
   "metadata": {},
   "outputs": [
    {
     "name": "stdout",
     "output_type": "stream",
     "text": [
      "{'e', 'x'}\n"
     ]
    }
   ],
   "source": [
    "set3={\"x\",\"y\",\"z\",\"e\"}\n",
    "set4={\"a\",\"x\",\"e\",\"q\"}\n",
    "set3.intersection_update(set4)\n",
    "print(set3)"
   ]
  },
  {
   "cell_type": "code",
   "execution_count": 268,
   "id": "6fd2ea02-0fad-4fac-935b-0c8f61d50267",
   "metadata": {},
   "outputs": [
    {
     "data": {
      "text/plain": [
       "{'e', 'x'}"
      ]
     },
     "execution_count": 268,
     "metadata": {},
     "output_type": "execute_result"
    }
   ],
   "source": [
    "set3.intersection(set4)\n"
   ]
  },
  {
   "cell_type": "code",
   "execution_count": 269,
   "id": "21486832-9983-46d0-8e77-7e19b5654be5",
   "metadata": {},
   "outputs": [],
   "source": [
    "set3.symmetric_difference_update(set4)"
   ]
  },
  {
   "cell_type": "code",
   "execution_count": 270,
   "id": "be6b789f-e59a-4de4-ad45-824afa7b8f8b",
   "metadata": {},
   "outputs": [
    {
     "name": "stdout",
     "output_type": "stream",
     "text": [
      "{'q', 'a'}\n"
     ]
    }
   ],
   "source": [
    "print(set3)"
   ]
  },
  {
   "cell_type": "code",
   "execution_count": 271,
   "id": "6f534a9d-1f5d-45a3-8173-818139cc816b",
   "metadata": {},
   "outputs": [
    {
     "name": "stdout",
     "output_type": "stream",
     "text": [
      "{'e', 'x'}\n"
     ]
    }
   ],
   "source": [
    "set4.symmetric_difference_update(set3)\n",
    "print(set4)"
   ]
  },
  {
   "cell_type": "code",
   "execution_count": 272,
   "id": "15f6e0cc-4684-4ec2-8418-1c0b8931c46b",
   "metadata": {},
   "outputs": [
    {
     "name": "stdout",
     "output_type": "stream",
     "text": [
      "{'cherry', 'google', 'microsoft', 'banana'}\n"
     ]
    }
   ],
   "source": [
    "x = {\"apple\", \"banana\", \"cherry\"}\n",
    "y = {\"google\", \"microsoft\", \"apple\"}\n",
    "x.symmetric_difference_update(y)\n",
    "print(x)"
   ]
  },
  {
   "cell_type": "code",
   "execution_count": 273,
   "id": "00b4c497-af4c-4b75-8bef-a6a0af679dfc",
   "metadata": {},
   "outputs": [
    {
     "data": {
      "text/plain": [
       "{'a', 'e', 'q', 'x'}"
      ]
     },
     "execution_count": 273,
     "metadata": {},
     "output_type": "execute_result"
    }
   ],
   "source": [
    "set3.symmetric_difference(set4)"
   ]
  },
  {
   "cell_type": "code",
   "execution_count": 274,
   "id": "bf31029b-e4bc-45a0-9e66-8a6108d3ef69",
   "metadata": {},
   "outputs": [
    {
     "data": {
      "text/plain": [
       "{'apple', 'banana', 'cherry'}"
      ]
     },
     "execution_count": 274,
     "metadata": {},
     "output_type": "execute_result"
    }
   ],
   "source": [
    "x.symmetric_difference(y)"
   ]
  },
  {
   "cell_type": "code",
   "execution_count": 275,
   "id": "b5c9a4ba-e798-44ab-b5cb-e73d3274516e",
   "metadata": {},
   "outputs": [],
   "source": [
    "###Dictionary"
   ]
  },
  {
   "cell_type": "code",
   "execution_count": 276,
   "id": "a9cbf7b8-56b9-4cb8-9a3b-20beb21f9349",
   "metadata": {},
   "outputs": [],
   "source": [
    "dict={\"car\":\"key\",\"lock\":\"door\",\"bell\":\"sound\"}"
   ]
  },
  {
   "cell_type": "code",
   "execution_count": 277,
   "id": "a68d7681-bc47-47cf-bcbf-4eb12c5856ec",
   "metadata": {},
   "outputs": [
    {
     "data": {
      "text/plain": [
       "{'car': 'key', 'lock': 'door', 'bell': 'sound'}"
      ]
     },
     "execution_count": 277,
     "metadata": {},
     "output_type": "execute_result"
    }
   ],
   "source": [
    "dict"
   ]
  },
  {
   "cell_type": "code",
   "execution_count": 278,
   "id": "90636039-0e54-4bc2-b76f-6c57c1c9f295",
   "metadata": {},
   "outputs": [
    {
     "name": "stdout",
     "output_type": "stream",
     "text": [
      "key\n"
     ]
    }
   ],
   "source": [
    "print(dict[\"car\"])"
   ]
  },
  {
   "cell_type": "code",
   "execution_count": 279,
   "id": "6568da4e-a4d7-41ad-9b67-4e8a394b98ba",
   "metadata": {},
   "outputs": [
    {
     "data": {
      "text/plain": [
       "dict_keys(['car', 'lock', 'bell'])"
      ]
     },
     "execution_count": 279,
     "metadata": {},
     "output_type": "execute_result"
    }
   ],
   "source": [
    "dict.keys()"
   ]
  },
  {
   "cell_type": "code",
   "execution_count": 280,
   "id": "56b506bd-8fcf-422b-8919-84d9b992e154",
   "metadata": {},
   "outputs": [
    {
     "data": {
      "text/plain": [
       "dict_values(['key', 'door', 'sound'])"
      ]
     },
     "execution_count": 280,
     "metadata": {},
     "output_type": "execute_result"
    }
   ],
   "source": [
    "dict.values()"
   ]
  },
  {
   "cell_type": "code",
   "execution_count": 281,
   "id": "c847873b-da49-4745-8f1f-8868ebbbc2dd",
   "metadata": {},
   "outputs": [
    {
     "data": {
      "text/plain": [
       "{'car': 'key', 'lock': 'door', 'bell': 'sound'}"
      ]
     },
     "execution_count": 281,
     "metadata": {},
     "output_type": "execute_result"
    }
   ],
   "source": [
    "car={\"name\":\"BMW\",\n",
    "     \"model\":\"x4\",\n",
    "     \"yom\":\"1999\"\n",
    "    }\n",
    "dict"
   ]
  },
  {
   "cell_type": "code",
   "execution_count": 282,
   "id": "6b2c3791-7d9e-4901-9f5f-c637ec8e5068",
   "metadata": {},
   "outputs": [
    {
     "data": {
      "text/plain": [
       "{'name': 'BMW', 'model': 'x4', 'yom': '1999'}"
      ]
     },
     "execution_count": 282,
     "metadata": {},
     "output_type": "execute_result"
    }
   ],
   "source": [
    "car"
   ]
  },
  {
   "cell_type": "code",
   "execution_count": 283,
   "id": "fc7c4982-b745-4525-8263-517f3a1ea9a6",
   "metadata": {},
   "outputs": [],
   "source": [
    "car[\"yom\"]=\"2000\""
   ]
  },
  {
   "cell_type": "code",
   "execution_count": 284,
   "id": "dcb60fe4-10d0-4f4d-98a6-81059500a805",
   "metadata": {},
   "outputs": [
    {
     "data": {
      "text/plain": [
       "{'name': 'BMW', 'model': 'x4', 'yom': '2000'}"
      ]
     },
     "execution_count": 284,
     "metadata": {},
     "output_type": "execute_result"
    }
   ],
   "source": [
    "car"
   ]
  },
  {
   "cell_type": "code",
   "execution_count": 286,
   "id": "e6e57a7d-a57e-4deb-8a31-9edc95a917de",
   "metadata": {},
   "outputs": [
    {
     "data": {
      "text/plain": [
       "dict_values(['BMW', 'x4', '2000'])"
      ]
     },
     "execution_count": 286,
     "metadata": {},
     "output_type": "execute_result"
    }
   ],
   "source": [
    "car.values()"
   ]
  },
  {
   "cell_type": "code",
   "execution_count": 287,
   "id": "a2d1b46d-06d2-42a5-a6ba-c7b88d8bc48c",
   "metadata": {},
   "outputs": [],
   "source": [
    "car[\"color\"]=\"red\""
   ]
  },
  {
   "cell_type": "code",
   "execution_count": 288,
   "id": "394764d4-c61a-4bb2-84a0-3ff8874789f3",
   "metadata": {},
   "outputs": [
    {
     "data": {
      "text/plain": [
       "{'name': 'BMW', 'model': 'x4', 'yom': '2000', 'color': 'red'}"
      ]
     },
     "execution_count": 288,
     "metadata": {},
     "output_type": "execute_result"
    }
   ],
   "source": [
    "car.values()\n",
    "car"
   ]
  },
  {
   "cell_type": "code",
   "execution_count": 289,
   "id": "fa5a1bad-8e9b-4fb8-ab98-d2c802dc9a86",
   "metadata": {},
   "outputs": [
    {
     "data": {
      "text/plain": [
       "dict_items([('name', 'BMW'), ('model', 'x4'), ('yom', '2000'), ('color', 'red')])"
      ]
     },
     "execution_count": 289,
     "metadata": {},
     "output_type": "execute_result"
    }
   ],
   "source": [
    "car.items() #will return tupe in a list"
   ]
  },
  {
   "cell_type": "code",
   "execution_count": 1,
   "id": "2738a376-3cf3-493e-95b8-c3cb325f014e",
   "metadata": {},
   "outputs": [],
   "source": [
    "x={\"we\",\"are\",\"in\"}\n",
    "y=[2,3,4,5]\n",
    "z=x.update(y)\n",
    "z"
   ]
  },
  {
   "cell_type": "code",
   "execution_count": 2,
   "id": "675e8478-e800-471b-9714-660bd2844e7c",
   "metadata": {},
   "outputs": [],
   "source": [
    "z"
   ]
  },
  {
   "cell_type": "code",
   "execution_count": 3,
   "id": "b024cbf0-78db-4051-b11d-1f2ddb5cb80f",
   "metadata": {},
   "outputs": [
    {
     "data": {
      "text/plain": [
       "{2, 3, 4, 5, 'are', 'in', 'we'}"
      ]
     },
     "execution_count": 3,
     "metadata": {},
     "output_type": "execute_result"
    }
   ],
   "source": [
    "x"
   ]
  },
  {
   "cell_type": "code",
   "execution_count": 5,
   "id": "774f3f28-73cc-464e-b905-0fc11ce1a7b5",
   "metadata": {},
   "outputs": [
    {
     "name": "stdout",
     "output_type": "stream",
     "text": [
      "present\n"
     ]
    }
   ],
   "source": [
    "if 2 in x:\n",
    "    print(\"present\")"
   ]
  },
  {
   "cell_type": "code",
   "execution_count": 6,
   "id": "845d15c5-e810-4d74-92ae-0a63d91697aa",
   "metadata": {},
   "outputs": [
    {
     "name": "stdout",
     "output_type": "stream",
     "text": [
      "{'a', 1, 2, 3, 'c', 'b'}\n"
     ]
    }
   ],
   "source": [
    "set1 = {\"a\", \"b\" , \"c\"}\n",
    "set2 = {1, 2, 3}\n",
    "\n",
    "set3 = set1.union(set2)\n",
    "print(set3)"
   ]
  },
  {
   "cell_type": "code",
   "execution_count": 7,
   "id": "dfbdc67c-c011-482d-9933-e9a71fa999a8",
   "metadata": {},
   "outputs": [
    {
     "name": "stdout",
     "output_type": "stream",
     "text": [
      "{'a', 1, 2, 3, 'c', 'b'}\n"
     ]
    }
   ],
   "source": [
    "set1 = {\"a\", \"b\" , \"c\"}\n",
    "set2 = {1, 2, 3}\n",
    "\n",
    "set1.update(set2)\n",
    "print(set1)"
   ]
  },
  {
   "cell_type": "code",
   "execution_count": 8,
   "id": "fedacb8f-16c6-49f5-86a7-dea94ebdc595",
   "metadata": {},
   "outputs": [
    {
     "name": "stdout",
     "output_type": "stream",
     "text": [
      "{'apple'}\n"
     ]
    }
   ],
   "source": [
    "x = {\"apple\", \"banana\", \"cherry\"}\n",
    "y = {\"google\", \"microsoft\", \"apple\"}\n",
    "\n",
    "x.intersection_update(y)\n",
    "\n",
    "print(x)"
   ]
  },
  {
   "cell_type": "code",
   "execution_count": 9,
   "id": "1aa8fe4a-93df-46cd-bf66-6e0baff5ccf1",
   "metadata": {},
   "outputs": [
    {
     "name": "stdout",
     "output_type": "stream",
     "text": [
      "{'apple'}\n"
     ]
    }
   ],
   "source": [
    "x = {\"apple\", \"banana\", \"cherry\"}\n",
    "y = {\"google\", \"microsoft\", \"apple\"}\n",
    "\n",
    "z = x.intersection(y)\n",
    "\n",
    "print(z)"
   ]
  },
  {
   "cell_type": "code",
   "execution_count": 10,
   "id": "8c98f69e-4529-46b9-8cb2-04cd152ec8bd",
   "metadata": {},
   "outputs": [
    {
     "name": "stdout",
     "output_type": "stream",
     "text": [
      "{'microsoft', 'cherry', 'google', 'banana'}\n"
     ]
    }
   ],
   "source": [
    "x = {\"apple\", \"banana\", \"cherry\"}\n",
    "y = {\"google\", \"microsoft\", \"apple\"}\n",
    "\n",
    "x.symmetric_difference_update(y)\n",
    "\n",
    "print(x)"
   ]
  },
  {
   "cell_type": "code",
   "execution_count": 11,
   "id": "a7527f70-caac-442b-bfca-2a17f0261935",
   "metadata": {},
   "outputs": [
    {
     "name": "stdout",
     "output_type": "stream",
     "text": [
      "{'microsoft', 'cherry', 'google', 'banana'}\n"
     ]
    }
   ],
   "source": [
    "x = {\"apple\", \"banana\", \"cherry\"}\n",
    "y = {\"google\", \"microsoft\", \"apple\"}\n",
    "\n",
    "z = x.symmetric_difference(y)\n",
    "\n",
    "print(z)"
   ]
  },
  {
   "cell_type": "code",
   "execution_count": 17,
   "id": "0119c566-899e-460e-b75c-018b242d8002",
   "metadata": {},
   "outputs": [
    {
     "name": "stdout",
     "output_type": "stream",
     "text": [
      "the kids are ('raju', 'ram', 'ali')\n"
     ]
    }
   ],
   "source": [
    "def my_function(*kids):\n",
    "    print(\"the kids are\",kids)\n",
    "\n",
    "my_function(\"raju\",\"ram\",\"ali\")"
   ]
  },
  {
   "cell_type": "code",
   "execution_count": 23,
   "id": "0f55f98d-80ae-4627-a7fa-b06bafe1a7e1",
   "metadata": {},
   "outputs": [
    {
     "ename": "NameError",
     "evalue": "name 'lname' is not defined",
     "output_type": "error",
     "traceback": [
      "\u001b[1;31m---------------------------------------------------------------------------\u001b[0m",
      "\u001b[1;31mNameError\u001b[0m                                 Traceback (most recent call last)",
      "Cell \u001b[1;32mIn[23], line 4\u001b[0m\n\u001b[0;32m      1\u001b[0m \u001b[38;5;28;01mdef\u001b[39;00m \u001b[38;5;21mmy_kid\u001b[39m(\u001b[38;5;241m*\u001b[39m\u001b[38;5;241m*\u001b[39mkids): \n\u001b[0;32m      2\u001b[0m     \u001b[38;5;28mprint\u001b[39m(\u001b[38;5;124m\"\u001b[39m\u001b[38;5;124mhis last name is \u001b[39m\u001b[38;5;124m\"\u001b[39m \u001b[38;5;241m+\u001b[39mkids[lname])\n\u001b[1;32m----> 4\u001b[0m \u001b[43mmy_kid\u001b[49m\u001b[43m(\u001b[49m\u001b[43mfname\u001b[49m\u001b[38;5;241;43m=\u001b[39;49m\u001b[38;5;124;43m\"\u001b[39;49m\u001b[38;5;124;43mrajewsh\u001b[39;49m\u001b[38;5;124;43m\"\u001b[39;49m\u001b[43m,\u001b[49m\u001b[43mlname\u001b[49m\u001b[38;5;241;43m=\u001b[39;49m\u001b[38;5;124;43m\"\u001b[39;49m\u001b[38;5;124;43msuresh\u001b[39;49m\u001b[38;5;124;43m\"\u001b[39;49m\u001b[43m)\u001b[49m\n",
      "Cell \u001b[1;32mIn[23], line 2\u001b[0m, in \u001b[0;36mmy_kid\u001b[1;34m(**kids)\u001b[0m\n\u001b[0;32m      1\u001b[0m \u001b[38;5;28;01mdef\u001b[39;00m \u001b[38;5;21mmy_kid\u001b[39m(\u001b[38;5;241m*\u001b[39m\u001b[38;5;241m*\u001b[39mkids): \n\u001b[1;32m----> 2\u001b[0m     \u001b[38;5;28mprint\u001b[39m(\u001b[38;5;124m\"\u001b[39m\u001b[38;5;124mhis last name is \u001b[39m\u001b[38;5;124m\"\u001b[39m \u001b[38;5;241m+\u001b[39mkids[\u001b[43mlname\u001b[49m])\n",
      "\u001b[1;31mNameError\u001b[0m: name 'lname' is not defined"
     ]
    }
   ],
   "source": [
    "def my_kid(**kids): \n",
    "    print(\"his last name is \" +kids[lname])\n",
    "\n",
    "my_kid(fname=\"rajewsh\",lname=\"suresh\")"
   ]
  },
  {
   "cell_type": "code",
   "execution_count": 24,
   "id": "5dd0b380-f62c-47e3-8c2e-1e238c5c949b",
   "metadata": {},
   "outputs": [
    {
     "name": "stdout",
     "output_type": "stream",
     "text": [
      "His last name is Refsnes\n"
     ]
    }
   ],
   "source": [
    "def my_function(**kid):\n",
    "  print(\"His last name is \" + kid[\"lname\"])\n",
    "\n",
    "my_function(fname = \"Tobias\", lname = \"Refsnes\")"
   ]
  },
  {
   "cell_type": "code",
   "execution_count": null,
   "id": "956f0c28-6408-4710-bc5c-19b25b8c8a9e",
   "metadata": {},
   "outputs": [],
   "source": []
  }
 ],
 "metadata": {
  "kernelspec": {
   "display_name": "Python 3 (ipykernel)",
   "language": "python",
   "name": "python3"
  },
  "language_info": {
   "codemirror_mode": {
    "name": "ipython",
    "version": 3
   },
   "file_extension": ".py",
   "mimetype": "text/x-python",
   "name": "python",
   "nbconvert_exporter": "python",
   "pygments_lexer": "ipython3",
   "version": "3.12.0"
  }
 },
 "nbformat": 4,
 "nbformat_minor": 5
}
