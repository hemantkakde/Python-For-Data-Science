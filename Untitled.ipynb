{
 "cells": [
  {
   "cell_type": "code",
   "execution_count": 1,
   "id": "bf9f0cfa-2fd9-4d6d-b064-f420d3de45f5",
   "metadata": {},
   "outputs": [
    {
     "name": "stdout",
     "output_type": "stream",
     "text": [
      "Hello world\n"
     ]
    }
   ],
   "source": [
    "print(\"Hello world\")"
   ]
  },
  {
   "cell_type": "markdown",
   "id": "bdf02822-ef0c-410a-a4d7-eb11bf26e87e",
   "metadata": {},
   "source": [
    "this is jupyter notebook"
   ]
  },
  {
   "cell_type": "markdown",
   "id": "44ca0b2c-dc42-43e9-8d95-fa31c9b57de3",
   "metadata": {},
   "source": [
    "# Data Analytics"
   ]
  },
  {
   "cell_type": "markdown",
   "id": "c5611b9e-759a-4897-958c-846f0835b301",
   "metadata": {},
   "source": [
    "### This class belongs to Data Analytics lead by Pavankumar Sir.\n",
    "\n",
    "* Statistics\n",
    "* Numpy\n",
    "* Pandas\n",
    "* Matplotlib\n",
    "* Seaborn"
   ]
  },
  {
   "cell_type": "code",
   "execution_count": 1,
   "id": "9de50ec1-e056-47b8-a4cd-40c6afd29650",
   "metadata": {},
   "outputs": [],
   "source": [
    "import numpy as pd"
   ]
  },
  {
   "cell_type": "code",
   "execution_count": 9,
   "id": "be8fdf9b-8639-4d4f-bca9-77827e0ae8b2",
   "metadata": {},
   "outputs": [],
   "source": [
    "def t_test_one(x_,mu,n,std):\n",
    "    import numpy as np\n",
    "    return((x_-mu)*np.sqrt(n))/std"
   ]
  },
  {
   "cell_type": "code",
   "execution_count": 11,
   "id": "e2a619c5-ca90-4931-b85d-47d84f8607ed",
   "metadata": {},
   "outputs": [
    {
     "data": {
      "text/plain": [
       "1.7846568297574819"
      ]
     },
     "execution_count": 11,
     "metadata": {},
     "output_type": "execute_result"
    }
   ],
   "source": [
    "x_=1.56\n",
    "mu=1.525\n",
    "n=26\n",
    "std=0.1\n",
    "\n",
    "t_test_one(x_,mu,n,std)"
   ]
  },
  {
   "cell_type": "code",
   "execution_count": null,
   "id": "161efa84-a12d-4178-9361-6534b9273c54",
   "metadata": {},
   "outputs": [],
   "source": []
  }
 ],
 "metadata": {
  "kernelspec": {
   "display_name": "Python 3 (ipykernel)",
   "language": "python",
   "name": "python3"
  },
  "language_info": {
   "codemirror_mode": {
    "name": "ipython",
    "version": 3
   },
   "file_extension": ".py",
   "mimetype": "text/x-python",
   "name": "python",
   "nbconvert_exporter": "python",
   "pygments_lexer": "ipython3",
   "version": "3.12.0"
  }
 },
 "nbformat": 4,
 "nbformat_minor": 5
}
